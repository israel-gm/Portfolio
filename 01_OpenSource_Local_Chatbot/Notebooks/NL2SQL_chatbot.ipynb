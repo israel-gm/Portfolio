{
 "cells": [
  {
   "cell_type": "code",
   "execution_count": null,
   "id": "9d2ca764",
   "metadata": {},
   "outputs": [],
   "source": [
    "import clickhouse_connect\n",
    "\n",
    "client = clickhouse_connect.get_client(\n",
    "    host='clickhouse',\n",
    "    port=8123,  # HTTP interface\n",
    "    username='abc',\n",
    "    password='xyz'\n",
    ")"
   ]
  },
  {
   "cell_type": "code",
   "execution_count": null,
   "id": "5884d911",
   "metadata": {},
   "outputs": [
    {
     "name": "stdout",
     "output_type": "stream",
     "text": [
      "Loading model: defog/sqlcoder-7b-2\n"
     ]
    },
    {
     "data": {
      "application/vnd.jupyter.widget-view+json": {
       "model_id": "0e884fcf9c014566be6467fd0bf11853",
       "version_major": 2,
       "version_minor": 0
      },
      "text/plain": [
       "tokenizer_config.json: 0.00B [00:00, ?B/s]"
      ]
     },
     "metadata": {},
     "output_type": "display_data"
    },
    {
     "data": {
      "application/vnd.jupyter.widget-view+json": {
       "model_id": "8f8b7189bce34949b2926c7a4572f4ea",
       "version_major": 2,
       "version_minor": 0
      },
      "text/plain": [
       "tokenizer.model:   0%|          | 0.00/500k [00:00<?, ?B/s]"
      ]
     },
     "metadata": {},
     "output_type": "display_data"
    },
    {
     "data": {
      "application/vnd.jupyter.widget-view+json": {
       "model_id": "e7625ce33dc24f8eb54657c27bc2e7f2",
       "version_major": 2,
       "version_minor": 0
      },
      "text/plain": [
       "tokenizer.json: 0.00B [00:00, ?B/s]"
      ]
     },
     "metadata": {},
     "output_type": "display_data"
    },
    {
     "data": {
      "application/vnd.jupyter.widget-view+json": {
       "model_id": "ca1794af157d49c385cfb55365a4882d",
       "version_major": 2,
       "version_minor": 0
      },
      "text/plain": [
       "special_tokens_map.json:   0%|          | 0.00/515 [00:00<?, ?B/s]"
      ]
     },
     "metadata": {},
     "output_type": "display_data"
    },
    {
     "data": {
      "application/vnd.jupyter.widget-view+json": {
       "model_id": "d385498ab9384a4da5ee1c33902fef1f",
       "version_major": 2,
       "version_minor": 0
      },
      "text/plain": [
       "config.json:   0%|          | 0.00/691 [00:00<?, ?B/s]"
      ]
     },
     "metadata": {},
     "output_type": "display_data"
    },
    {
     "data": {
      "application/vnd.jupyter.widget-view+json": {
       "model_id": "2e32e701ae824049be4c635d52ae1818",
       "version_major": 2,
       "version_minor": 0
      },
      "text/plain": [
       "model.safetensors.index.json: 0.00B [00:00, ?B/s]"
      ]
     },
     "metadata": {},
     "output_type": "display_data"
    },
    {
     "data": {
      "application/vnd.jupyter.widget-view+json": {
       "model_id": "05fb74d258954193b631e60049bdd539",
       "version_major": 2,
       "version_minor": 0
      },
      "text/plain": [
       "Fetching 3 files:   0%|          | 0/3 [00:00<?, ?it/s]"
      ]
     },
     "metadata": {},
     "output_type": "display_data"
    },
    {
     "data": {
      "application/vnd.jupyter.widget-view+json": {
       "model_id": "6953ad0d5e9c43a9ba5f00a3734e1fe5",
       "version_major": 2,
       "version_minor": 0
      },
      "text/plain": [
       "model-00002-of-00003.safetensors:   0%|          | 0.00/4.95G [00:00<?, ?B/s]"
      ]
     },
     "metadata": {},
     "output_type": "display_data"
    },
    {
     "data": {
      "application/vnd.jupyter.widget-view+json": {
       "model_id": "5b6dab578640442cb37d0e224eb64d5c",
       "version_major": 2,
       "version_minor": 0
      },
      "text/plain": [
       "model-00001-of-00003.safetensors:   0%|          | 0.00/4.94G [00:00<?, ?B/s]"
      ]
     },
     "metadata": {},
     "output_type": "display_data"
    },
    {
     "data": {
      "application/vnd.jupyter.widget-view+json": {
       "model_id": "eb8e5d07f5754d9283f9f2ebb01728ce",
       "version_major": 2,
       "version_minor": 0
      },
      "text/plain": [
       "model-00003-of-00003.safetensors:   0%|          | 0.00/3.59G [00:00<?, ?B/s]"
      ]
     },
     "metadata": {},
     "output_type": "display_data"
    },
    {
     "data": {
      "application/vnd.jupyter.widget-view+json": {
       "model_id": "5697f9d2fa01482cb51ce47e597675ff",
       "version_major": 2,
       "version_minor": 0
      },
      "text/plain": [
       "Loading checkpoint shards:   0%|          | 0/3 [00:00<?, ?it/s]"
      ]
     },
     "metadata": {},
     "output_type": "display_data"
    },
    {
     "data": {
      "application/vnd.jupyter.widget-view+json": {
       "model_id": "0e06be16f6904160a862d896f5b2013a",
       "version_major": 2,
       "version_minor": 0
      },
      "text/plain": [
       "generation_config.json:   0%|          | 0.00/111 [00:00<?, ?B/s]"
      ]
     },
     "metadata": {},
     "output_type": "display_data"
    }
   ],
   "source": [
    "import torch\n",
    "from transformers import AutoTokenizer, AutoModelForCausalLM, BitsAndBytesConfig, StoppingCriteria, StoppingCriteriaList\n",
    "from huggingface_hub import login\n",
    "import torch._dynamo\n",
    "\n",
    "# -----------------------------\n",
    "# LOGIN\n",
    "# -----------------------------\n",
    "my_token = \"hf_xxxxxxx\"\n",
    "login(token=my_token)\n",
    "\n",
    "# -----------------------------\n",
    "# CONFIGURATION\n",
    "# -----------------------------\n",
    "MODEL_NAME = \"defog/sqlcoder-7b-2\"\n",
    "\n",
    "# Load in 4-bit quantization\n",
    "bnb_config = BitsAndBytesConfig(\n",
    "    load_in_4bit=True,\n",
    "    bnb_4bit_use_double_quant=True,\n",
    "    bnb_4bit_quant_type=\"nf4\",\n",
    "    bnb_4bit_compute_dtype=torch.float16\n",
    ")\n",
    "\n",
    "print(f\"Loading model: {MODEL_NAME}\")\n",
    "tokenizer = AutoTokenizer.from_pretrained(MODEL_NAME, token=my_token)\n",
    "model = AutoModelForCausalLM.from_pretrained(\n",
    "    MODEL_NAME,\n",
    "    token=my_token,\n",
    "    quantization_config=bnb_config,\n",
    "    torch_dtype=torch.float16,\n",
    "    device_map=\"auto\"\n",
    ")\n",
    "\n",
    "torch.set_float32_matmul_precision(\"high\")\n",
    "\n",
    "#conflicting function\n",
    "#class StopOnSemicolon(StoppingCriteria):\n",
    "#    def __call__(self, input_ids, scores, **kwargs):\n",
    "#        decoded = tokenizer.decode(input_ids[0], skip_special_tokens=True)\n",
    "#        return \";\" in decoded\n",
    "\n",
    "#stopping_criteria = StoppingCriteriaList([StopOnSemicolon()])"
   ]
  },
  {
   "cell_type": "code",
   "execution_count": 2,
   "id": "55cec754",
   "metadata": {},
   "outputs": [],
   "source": [
    "schema_info = \"\"\"superficie_bd.superficie_forestal (\n",
    "    entidad_federativa String,\n",
    "    poblacion UInt32,\n",
    "    superficie_total Float64,\n",
    "    superficie_forestal Float64,\n",
    "    superficie_no_forestal Float64,\n",
    "    superficie_con_arbolado Float64,\n",
    "    area_cubierta_por_bosque Float64,\n",
    "    area_cubierta_por_selva Float64,\n",
    "    area_cubierta_por_manglar Float64,\n",
    "    superficie_cubierta_por_otras_areas_arboladas Float64,\n",
    "    area_cubierta_por_matorral_xerofilo Float64,\n",
    "    area_cubierta_por_otras_areas_forestales Float64,\n",
    "    superficie_destinada_a_actividades_agricolas_de_humedad Float64,\n",
    "    superficie_destinada_a_actividades_agricolas_de_riego Float64,\n",
    "    superficie_destinada_a_actividades_agricolas_de_temporal Float64,\n",
    "    superficie_de_cuerpos_de_agua Float64,\n",
    "    superficie_destinada_a_actividades_acuicolas Float64,\n",
    "    area_de_pastizales_cultivados Float64,\n",
    "    area_de_pastizales_inducidos Float64,\n",
    "    superficie_sin_vegetacion_visible Float64,\n",
    "    superficie_desprovista_de_vegetacion Float64,\n",
    "    superficie_ocupada_por_asentamientos_humanos Float64\n",
    ")\n",
    "\"\"\""
   ]
  },
  {
   "cell_type": "code",
   "execution_count": 3,
   "id": "9540a04e",
   "metadata": {},
   "outputs": [],
   "source": [
    "entidad_federativa = \"['Aguascalientes', 'Baja California Norte', 'Baja California Sur', 'Campeche', 'Coahuila', 'Colima', 'Chiapas', 'Chihuahua', 'Ciudad de Mexico', 'Durango', 'Guanajuato', 'Guerrero', 'Hidalgo', 'Jalisco', 'Estado de Mexico', 'Michoacan', 'Morelos', 'Nayarit', 'Nuevo Leon', 'Oaxaca', 'Puebla', 'Queretaro', 'Quintana Roo', 'San Luis Potosi', 'Sinaloa', 'Sonora', 'Tabasco', 'Tamaulipas', 'Tlaxcala', 'Veracruz', 'Yucatan', 'Zacatecas']\""
   ]
  },
  {
   "cell_type": "code",
   "execution_count": 4,
   "id": "dda59731",
   "metadata": {},
   "outputs": [],
   "source": [
    "# -----------------------------\n",
    "# MAIN FUNCTION\n",
    "# -----------------------------\n",
    "def nl_to_sql(request: str) -> str:\n",
    "    prompt = f\"\"\"You are a SQL generator for PostgreSQL.\n",
    "    Given a user request in natural language (in Spanish), respond with exactly one valid SQL query. Return ONLY the SQL query, no explanations, no markdown formatting.\n",
    "    \n",
    "    SCHEMA:\n",
    "    Table: superficie_bd.superficie_forestal\n",
    "    {schema_info}\n",
    "\n",
    "    IMPORTANT RULES:\n",
    "\n",
    "    1. GRANULARITY:\n",
    "      - The table has one row per 'entidad_federativa' (state)\n",
    "      - Available states: {entidad_federativa}\n",
    "\n",
    "    2. TERMINOLOGY:\n",
    "      - \"entidad federativa\" = \"estado\" (state)\n",
    "      - \"México\" (without qualifiers) = the entire country (aggregate all states)\n",
    "      - \"Estado de México\" = a specific state\n",
    "      - \"Ciudad de México\" = a specific state (different from México and Estado de México)\n",
    "\n",
    "    3. WHEN TO AGGREGATE:\n",
    "      - If user asks about \"México\" alone: Use SUM() without GROUP BY\n",
    "      - If user asks about specific state(s): Use WHERE with exact state name(s)\n",
    "      - If user asks about \"all states\" or \"each state\": Use GROUP BY entidad_federativa\n",
    "\n",
    "    4. COLUMNS:\n",
    "      - All columns except 'entidad_federativa' represent surface area in hectares\n",
    "      - 'superficie_total' = total area of each state\n",
    "      - If user doesn't specify columns, select the most relevant based on context\n",
    "\n",
    "    5. FORMATTING:\n",
    "      - Always use: SELECT ... FROM superficie_bd.superficie_forestal\n",
    "      - Use exact column and state names from the schema\n",
    "      - For state filtering: WHERE entidad_federativa = 'exact_name'\n",
    "      - For multiple states: WHERE entidad_federativa IN ('state1', 'state2')\n",
    "      - Add ORDER BY when comparing or listing multiple results\n",
    "\n",
    "    6. RULE EXAMPLES:\n",
    "      - \"superficie de México\" → SUM(superficie_total) without WHERE\n",
    "      - \"superficie de Estado de México\" → WHERE entidad_federativa = 'Estado de México'\n",
    "      - \"superficie forestal por estado\" → SELECT entidad_federativa, superficie_forestal... GROUP BY entidad_federativa\n",
    "\n",
    "\n",
    "    REQUEST EXAMPLE:\n",
    "    User request: Dame la superficie de otras areas arboladas en la entidad federativa Sonora.\n",
    "    SQL: SELECT\n",
    "      superficie_cubierta_por_otras_areas_arboladas\n",
    "    FROM\n",
    "      superficie_bd.superficie_forestal\n",
    "    WHERE\n",
    "      entidad_federativa = 'Sonora';\n",
    "\n",
    "    REQUEST EXAMPLE:\n",
    "    User request: ¿Cuál es la entidad federativa con más superficie cubierta por bosque?\n",
    "    SQL: SELECT\n",
    "      entidad_federativa,\n",
    "      superficie_cubierta_por_bosque\n",
    "    FROM \n",
    "      superficie_bd.superficie_forestal\n",
    "    ORDER BY\n",
    "      superficie_cubierta_por_bosque\n",
    "    DESC\n",
    "    LIMIT 1;\n",
    "\n",
    "    REQUEST EXAMPLE:\n",
    "    User request: ¿Qué estado tiene la menor área de agua?\n",
    "    SELECT\n",
    "      entidad_federativa,\n",
    "      superficie_cubierta_por_cuerpos_de_agua\n",
    "    FROM \n",
    "      superficie_bd.superficie_forestal\n",
    "    ORDER BY\n",
    "      superficie_cubierta_por_cuerpos_de_agua\n",
    "    ASC\n",
    "    LIMIT 1;\n",
    "\n",
    "    REQUEST EXAMPLE:\n",
    "    User request: ¿Cuál es el total de superficie de matorral xerófilo?\n",
    "    SQL: SELECT\n",
    "      SUM(superficie_cubierta_por_matorral_xerofilo)\n",
    "    FROM\n",
    "      superficie_bd.superficie_forestal;\n",
    "\n",
    "    REQUEST EXAMPLE:\n",
    "    User request: ¿Cuál es la razón de superficie de manglar entre superficie total por entidad?\n",
    "    SQL: SELECT\n",
    "      entidad_federativa,\n",
    "      superficie_cubierta_por_manglar/superficie_total\n",
    "    FROM \n",
    "      superficie_bd.superficie_forestal\n",
    "    ORDER BY\n",
    "      superficie_cubierta_por_manglar/superficie_total\n",
    "    DESC;\n",
    "\n",
    "    REQUEST EXAMPLE:\n",
    "    User request: ¿Cuál es la superficie cubierta por bosque en el Estado de México?\n",
    "    SQL: SELECT\n",
    "      superficie_cubierta_por_bosque\n",
    "    FROM\n",
    "      superficie_bd.superficie_forestal\n",
    "    WHERE\n",
    "      entidad_federativa = 'Estado de Mexico';\n",
    "\n",
    "    REQUEST EXAMPLE:\n",
    "    User request: ¿Cuánto ocupa la superficie destinada a asentamientos humanos?\n",
    "    SQL: SELECT\n",
    "      SUM(superficie_ocupada_por_asentamientos_humanos)\n",
    "    FROM\n",
    "      superficie_bd.superficie_forestal;\n",
    "\n",
    "    REQUEST EXAMPLE:\n",
    "    User request: ¿Cuál es la superficie forestal en la república?\n",
    "    SQL: SELECT\n",
    "      SUM(superficie_forestal)\n",
    "    FROM\n",
    "      superficie_bd.superficie_forestal;\n",
    "\n",
    "    REQUEST EXAMPLE:\n",
    "    User request: ¿Cuál es la razón de superficie cubierta por otras áreas arboladas entre superficie total en el país?\n",
    "    SQL: SELECT\n",
    "      SUM(superficie_cubierta_por_otras_areas_arboladas)/SUM(superficie_total)\n",
    "    FROM \n",
    "      superficie_bd.superficie_forestal;\n",
    "\n",
    "    Generate only the SQL query.\n",
    "\n",
    "    User request: {request}\n",
    "\n",
    "    SQL:\n",
    "    \"\"\"\n",
    "\n",
    "    # 👇 Match input device to model’s first parameter device\n",
    "    model_device = next(model.parameters()).device\n",
    "    inputs = tokenizer(prompt, return_tensors=\"pt\").to(model_device)\n",
    "\n",
    "    gen_kwargs = {\n",
    "        \"max_new_tokens\": 128,\n",
    "        \"do_sample\": False,\n",
    "        \"pad_token_id\": tokenizer.eos_token_id,\n",
    "        \"eos_token_id\": tokenizer.eos_token_id,\n",
    "        #\"stopping_criteria\": stopping_criteria #conflicting line\n",
    "    }\n",
    "\n",
    "    @torch._dynamo.disable\n",
    "    def safe_generate():\n",
    "        with torch.no_grad():\n",
    "            return model.generate(**inputs, **gen_kwargs)\n",
    "\n",
    "    output_ids = safe_generate()\n",
    "    full_output = tokenizer.decode(output_ids[0], skip_special_tokens=True)\n",
    "\n",
    "    sql = full_output.replace(prompt, \"\").strip()\n",
    "    if \";\" in sql:\n",
    "      sql = sql.split(\";\")[0] + \";\"\n",
    "    \n",
    "    return sql"
   ]
  },
  {
   "cell_type": "code",
   "execution_count": 19,
   "id": "7861b0da",
   "metadata": {},
   "outputs": [
    {
     "name": "stdout",
     "output_type": "stream",
     "text": [
      "Generated SQL:\n",
      " SELECT superficie_cubierta_por_cuerpos_de_agua FROM superficie_bd.superficie_forestal WHERE entidad_federativa = 'Jalisco';\n"
     ]
    }
   ],
   "source": [
    "\n",
    "query = nl_to_sql(\"Dame la superficie cubierta por agua en Jalisco\")\n",
    "print(\"Generated SQL:\\n\", query)"
   ]
  },
  {
   "cell_type": "code",
   "execution_count": 20,
   "id": "62f34f79",
   "metadata": {},
   "outputs": [
    {
     "name": "stdout",
     "output_type": "stream",
     "text": [
      "('superficie_cubierta_por_cuerpos_de_agua',)\n"
     ]
    },
    {
     "data": {
      "text/plain": [
       "[(161704.7867,)]"
      ]
     },
     "execution_count": 20,
     "metadata": {},
     "output_type": "execute_result"
    }
   ],
   "source": [
    "result = client.query(query)\n",
    "\n",
    "print(result.column_names)\n",
    "result.result_rows"
   ]
  },
  {
   "cell_type": "code",
   "execution_count": 21,
   "id": "3533890c",
   "metadata": {},
   "outputs": [
    {
     "name": "stdout",
     "output_type": "stream",
     "text": [
      "Generated SQL:\n",
      " SELECT superficie_cubierta_por_bosque FROM superficie_bd.superficie_forestal WHERE entidad_federativa = 'Estado de Mexico';\n"
     ]
    }
   ],
   "source": [
    "query = nl_to_sql(\"¿Cuál es la superficie cubierta por bosque en el Estado de México?\")\n",
    "print(\"Generated SQL:\\n\", query)"
   ]
  },
  {
   "cell_type": "code",
   "execution_count": 22,
   "id": "e4be85ff",
   "metadata": {},
   "outputs": [
    {
     "name": "stdout",
     "output_type": "stream",
     "text": [
      "('superficie_cubierta_por_bosque',)\n"
     ]
    },
    {
     "data": {
      "text/plain": [
       "[(623624.7159,)]"
      ]
     },
     "execution_count": 22,
     "metadata": {},
     "output_type": "execute_result"
    }
   ],
   "source": [
    "result = client.query(query)\n",
    "\n",
    "print(result.column_names)\n",
    "result.result_rows"
   ]
  },
  {
   "cell_type": "code",
   "execution_count": 23,
   "id": "02f1f73f",
   "metadata": {},
   "outputs": [
    {
     "name": "stdout",
     "output_type": "stream",
     "text": [
      "Generated SQL:\n",
      " SELECT SUM(superficie_cubierta_por_cuerpos_de_agua)/SUM(superficie_total) AS ratio FROM superficie_bd.superficie_forestal WHERE entidad_federativa = 'Colima';\n"
     ]
    }
   ],
   "source": [
    "query = nl_to_sql(\"Muestra la razón de cuerpos de agua entre superficie total para Colima\")\n",
    "print(\"Generated SQL:\\n\", query)"
   ]
  },
  {
   "cell_type": "code",
   "execution_count": 24,
   "id": "8198c34b",
   "metadata": {},
   "outputs": [
    {
     "name": "stdout",
     "output_type": "stream",
     "text": [
      "('ratio',)\n"
     ]
    },
    {
     "data": {
      "text/plain": [
       "[(0.016827571244275315,)]"
      ]
     },
     "execution_count": 24,
     "metadata": {},
     "output_type": "execute_result"
    }
   ],
   "source": [
    "result = client.query(query)\n",
    "\n",
    "print(result.column_names)\n",
    "result.result_rows"
   ]
  },
  {
   "cell_type": "code",
   "execution_count": 25,
   "id": "8b3339ec",
   "metadata": {},
   "outputs": [
    {
     "name": "stdout",
     "output_type": "stream",
     "text": [
      "Generated SQL:\n",
      " SELECT SUM(superficie_cubierta_por_otras_areas_forestales)/NULLIF(SUM(poblacion), 0) AS ratio FROM superficie_bd.superficie_forestal;\n"
     ]
    }
   ],
   "source": [
    "query = nl_to_sql(\"¿Cuál es la razón del total de superficie cubierta por otras áreas forestales entre la población total?\")\n",
    "print(\"Generated SQL:\\n\", query)"
   ]
  },
  {
   "cell_type": "code",
   "execution_count": 26,
   "id": "bd083b87",
   "metadata": {},
   "outputs": [
    {
     "name": "stdout",
     "output_type": "stream",
     "text": [
      "('ratio',)\n"
     ]
    },
    {
     "data": {
      "text/plain": [
       "[(0.12091184392137898,)]"
      ]
     },
     "execution_count": 26,
     "metadata": {},
     "output_type": "execute_result"
    }
   ],
   "source": [
    "result = client.query(query)\n",
    "\n",
    "print(result.column_names)\n",
    "result.result_rows"
   ]
  },
  {
   "cell_type": "code",
   "execution_count": 27,
   "id": "8e915aa5",
   "metadata": {},
   "outputs": [
    {
     "name": "stdout",
     "output_type": "stream",
     "text": [
      "Generated SQL:\n",
      " SELECT entidad_federativa, superficie_destinada_a_actividades_agricolas_de_humedad FROM superficie_bd.superficie_forestal ORDER BY superficie_destinada_a_actividades_agricolas_de_humedad DESC LIMIT 1;\n"
     ]
    }
   ],
   "source": [
    "query = nl_to_sql(\"¿Cuál es el estado con la mayor superficie destinada a actividades agrícolas de humedad?\")\n",
    "print(\"Generated SQL:\\n\", query)"
   ]
  },
  {
   "cell_type": "code",
   "execution_count": 28,
   "id": "cbd8085b",
   "metadata": {},
   "outputs": [
    {
     "name": "stdout",
     "output_type": "stream",
     "text": [
      "('entidad_federativa', 'superficie_destinada_a_actividades_agricolas_de_humedad')\n"
     ]
    },
    {
     "data": {
      "text/plain": [
       "[('Veracruz', 74343.30061)]"
      ]
     },
     "execution_count": 28,
     "metadata": {},
     "output_type": "execute_result"
    }
   ],
   "source": [
    "result = client.query(query)\n",
    "\n",
    "print(result.column_names)\n",
    "result.result_rows"
   ]
  },
  {
   "cell_type": "code",
   "execution_count": 29,
   "id": "0857738d",
   "metadata": {},
   "outputs": [
    {
     "name": "stdout",
     "output_type": "stream",
     "text": [
      "Generated SQL:\n",
      " SELECT SUM(superficie_ocupada_por_asentamientos_humanos) AS superficie_ocupada_por_asentamientos_humanos FROM superficie_bd.superficie_forestal;\n"
     ]
    }
   ],
   "source": [
    "query = nl_to_sql(\"Área ocupada por asentamientos humanos\")\n",
    "print(\"Generated SQL:\\n\", query)"
   ]
  },
  {
   "cell_type": "code",
   "execution_count": 30,
   "id": "b3db49e9",
   "metadata": {},
   "outputs": [
    {
     "name": "stdout",
     "output_type": "stream",
     "text": [
      "('superficie_ocupada_por_asentamientos_humanos',)\n"
     ]
    },
    {
     "data": {
      "text/plain": [
       "[(2410991.0339599997,)]"
      ]
     },
     "execution_count": 30,
     "metadata": {},
     "output_type": "execute_result"
    }
   ],
   "source": [
    "result = client.query(query)\n",
    "\n",
    "print(result.column_names)\n",
    "result.result_rows"
   ]
  },
  {
   "cell_type": "code",
   "execution_count": 31,
   "id": "4f84db9d",
   "metadata": {},
   "outputs": [
    {
     "name": "stdout",
     "output_type": "stream",
     "text": [
      "Generated SQL:\n",
      " SELECT\n",
      "      entidad_federativa, superficie_sin_vegetacion_visible FROM superficie_bd.superficie_forestal ORDER BY superficie_sin_vegetacion_visible DESC LIMIT 3;\n"
     ]
    }
   ],
   "source": [
    "query = nl_to_sql(\"¿Cuáles son las 3 entidades con mayor superficie sin vegetación visible?\")\n",
    "print(\"Generated SQL:\\n\", query)"
   ]
  },
  {
   "cell_type": "code",
   "execution_count": 32,
   "id": "0fdb86b6",
   "metadata": {},
   "outputs": [
    {
     "name": "stdout",
     "output_type": "stream",
     "text": [
      "('entidad_federativa', 'superficie_sin_vegetacion_visible')\n"
     ]
    },
    {
     "data": {
      "text/plain": [
       "[('Baja California Norte', 304021.6308),\n",
       " ('Sonora', 136439.0437),\n",
       " ('Chihuahua', 93518.89663)]"
      ]
     },
     "execution_count": 32,
     "metadata": {},
     "output_type": "execute_result"
    }
   ],
   "source": [
    "result = client.query(query)\n",
    "\n",
    "print(result.column_names)\n",
    "result.result_rows"
   ]
  },
  {
   "cell_type": "code",
   "execution_count": 33,
   "id": "8597938f",
   "metadata": {},
   "outputs": [
    {
     "name": "stdout",
     "output_type": "stream",
     "text": [
      "Generated SQL:\n",
      " SELECT entidad_federativa, superficie_cubierta_por_bosque FROM superficie_bd.superficie_forestal ORDER BY superficie_cubierta_por_bosque ASC LIMIT 1;\n"
     ]
    }
   ],
   "source": [
    "query = nl_to_sql(\"¿Qué entidad federativa tiene la menor área de bosque?\")\n",
    "print(\"Generated SQL:\\n\", query)"
   ]
  },
  {
   "cell_type": "code",
   "execution_count": 34,
   "id": "1b497dc8",
   "metadata": {},
   "outputs": [
    {
     "name": "stdout",
     "output_type": "stream",
     "text": [
      "('entidad_federativa', 'superficie_cubierta_por_bosque')\n"
     ]
    },
    {
     "data": {
      "text/plain": [
       "[('Yucatan', 0.0)]"
      ]
     },
     "execution_count": 34,
     "metadata": {},
     "output_type": "execute_result"
    }
   ],
   "source": [
    "result = client.query(query)\n",
    "\n",
    "print(result.column_names)\n",
    "result.result_rows"
   ]
  },
  {
   "cell_type": "code",
   "execution_count": 35,
   "id": "9e5774a9",
   "metadata": {},
   "outputs": [
    {
     "name": "stdout",
     "output_type": "stream",
     "text": [
      "Generated SQL:\n",
      " SELECT SUM(poblacion) AS total_population FROM superficie_bd.superficie_forestal;\n"
     ]
    }
   ],
   "source": [
    "query = nl_to_sql(\"¿Cuál es la población total en México?\")\n",
    "print(\"Generated SQL:\\n\", query)"
   ]
  },
  {
   "cell_type": "code",
   "execution_count": 36,
   "id": "3e761211",
   "metadata": {},
   "outputs": [
    {
     "name": "stdout",
     "output_type": "stream",
     "text": [
      "('total_population',)\n"
     ]
    },
    {
     "data": {
      "text/plain": [
       "[(131014024,)]"
      ]
     },
     "execution_count": 36,
     "metadata": {},
     "output_type": "execute_result"
    }
   ],
   "source": [
    "result = client.query(query)\n",
    "\n",
    "print(result.column_names)\n",
    "result.result_rows"
   ]
  },
  {
   "cell_type": "code",
   "execution_count": 39,
   "id": "e72a4934",
   "metadata": {},
   "outputs": [
    {
     "name": "stdout",
     "output_type": "stream",
     "text": [
      "Generated SQL:\n",
      " SELECT entidad_federativa, superficie_con_arbolado FROM superficie_bd.superficie_forestal ORDER BY superficie_con_arbolado ASC LIMIT 1;\n"
     ]
    }
   ],
   "source": [
    "query = nl_to_sql(\"¿Cuál es la entidad federativa con menor área de arbolado?\")\n",
    "print(\"Generated SQL:\\n\", query)"
   ]
  },
  {
   "cell_type": "code",
   "execution_count": 40,
   "id": "64b825af",
   "metadata": {},
   "outputs": [
    {
     "name": "stdout",
     "output_type": "stream",
     "text": [
      "('entidad_federativa', 'superficie_con_arbolado')\n"
     ]
    },
    {
     "data": {
      "text/plain": [
       "[('Ciudad de Mexico', 42691.40171)]"
      ]
     },
     "execution_count": 40,
     "metadata": {},
     "output_type": "execute_result"
    }
   ],
   "source": [
    "result = client.query(query)\n",
    "\n",
    "print(result.column_names)\n",
    "result.result_rows"
   ]
  },
  {
   "cell_type": "code",
   "execution_count": 43,
   "id": "5bd02dad",
   "metadata": {},
   "outputs": [
    {
     "name": "stdout",
     "output_type": "stream",
     "text": [
      "Generated SQL:\n",
      " SELECT superficie_total FROM superficie_bd.superficie_forestal WHERE entidad_federativa = 'Oaxaca';\n"
     ]
    }
   ],
   "source": [
    "query = nl_to_sql(\"¿Cuál es el área de Oaxaca?\")\n",
    "print(\"Generated SQL:\\n\", query)"
   ]
  },
  {
   "cell_type": "code",
   "execution_count": 44,
   "id": "00af7bcf",
   "metadata": {},
   "outputs": [
    {
     "name": "stdout",
     "output_type": "stream",
     "text": [
      "('superficie_total',)\n"
     ]
    },
    {
     "data": {
      "text/plain": [
       "[(9376581.998,)]"
      ]
     },
     "execution_count": 44,
     "metadata": {},
     "output_type": "execute_result"
    }
   ],
   "source": [
    "result = client.query(query)\n",
    "\n",
    "print(result.column_names)\n",
    "result.result_rows"
   ]
  }
 ],
 "metadata": {
  "kernelspec": {
   "display_name": "base",
   "language": "python",
   "name": "python3"
  },
  "language_info": {
   "codemirror_mode": {
    "name": "ipython",
    "version": 3
   },
   "file_extension": ".py",
   "mimetype": "text/x-python",
   "name": "python",
   "nbconvert_exporter": "python",
   "pygments_lexer": "ipython3",
   "version": "3.11.13"
  }
 },
 "nbformat": 4,
 "nbformat_minor": 5
}
