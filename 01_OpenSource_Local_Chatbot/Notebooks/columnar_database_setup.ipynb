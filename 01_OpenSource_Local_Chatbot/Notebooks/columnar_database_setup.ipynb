{
 "cells": [
  {
   "cell_type": "code",
   "execution_count": 1,
   "id": "fb531b82",
   "metadata": {},
   "outputs": [],
   "source": [
    "import pandas as pd\n",
    "import clickhouse_connect\n",
    "import os"
   ]
  },
  {
   "cell_type": "code",
   "execution_count": null,
   "id": "477e0758",
   "metadata": {},
   "outputs": [],
   "source": [
    "client = clickhouse_connect.get_client(\n",
    "    host='clickhouse',\n",
    "    port=8123,  # HTTP interface\n",
    "    username='abc',\n",
    "    password='xyz'\n",
    ")"
   ]
  },
  {
   "cell_type": "code",
   "execution_count": 3,
   "id": "1432bb45",
   "metadata": {},
   "outputs": [
    {
     "data": {
      "text/plain": [
       "<clickhouse_connect.driver.summary.QuerySummary at 0x7dc93cbdf690>"
      ]
     },
     "execution_count": 3,
     "metadata": {},
     "output_type": "execute_result"
    }
   ],
   "source": [
    "client.command('DROP DATABASE IF EXISTS superficie_bd')"
   ]
  },
  {
   "cell_type": "code",
   "execution_count": 4,
   "id": "d94f8175",
   "metadata": {},
   "outputs": [
    {
     "data": {
      "text/plain": [
       "<clickhouse_connect.driver.summary.QuerySummary at 0x7dc93cbf6650>"
      ]
     },
     "execution_count": 4,
     "metadata": {},
     "output_type": "execute_result"
    }
   ],
   "source": [
    "client.command(\"CREATE DATABASE IF NOT EXISTS superficie_bd\") #creación de base de datos para bosques y cultivos "
   ]
  },
  {
   "cell_type": "code",
   "execution_count": 5,
   "id": "0e732f84",
   "metadata": {},
   "outputs": [
    {
     "name": "stdout",
     "output_type": "stream",
     "text": [
      "[('INFORMATION_SCHEMA',), ('default',), ('information_schema',), ('superficie_bd',), ('system',)]\n"
     ]
    }
   ],
   "source": [
    "print(client.query(\"SHOW DATABASES\").result_rows)"
   ]
  },
  {
   "cell_type": "code",
   "execution_count": 6,
   "id": "8c0cca49",
   "metadata": {},
   "outputs": [],
   "source": [
    "# Read CSV files\n",
    "csv_path_0 = '/usr/workspace/media/00_superficie_forestal.csv'\n",
    "data_0 = pd.read_csv(csv_path_0)"
   ]
  },
  {
   "cell_type": "code",
   "execution_count": 7,
   "id": "ff63d288",
   "metadata": {},
   "outputs": [
    {
     "name": "stdout",
     "output_type": "stream",
     "text": [
      "<class 'pandas.core.frame.DataFrame'>\n",
      "RangeIndex: 32 entries, 0 to 31\n",
      "Data columns (total 22 columns):\n",
      " #   Column                                                    Non-Null Count  Dtype  \n",
      "---  ------                                                    --------------  -----  \n",
      " 0   entidad_federativa                                        32 non-null     object \n",
      " 1   poblacion                                                 32 non-null     int64  \n",
      " 2   superficie_total                                          32 non-null     float64\n",
      " 3   superficie_forestal                                       32 non-null     float64\n",
      " 4   superficie_no_forestal                                    32 non-null     float64\n",
      " 5   superficie_con_arbolado                                   32 non-null     float64\n",
      " 6   area_cubierta_por_bosque                                  32 non-null     float64\n",
      " 7   area_cubierta_por_selva                                   32 non-null     float64\n",
      " 8   area_cubierta_por_manglar                                 32 non-null     float64\n",
      " 9   superficie_cubierta_por_otras_areas_arboladas             32 non-null     float64\n",
      " 10  area_cubierta_por_matorral_xerofilo                       32 non-null     float64\n",
      " 11  area_cubierta_por_otras_areas_forestales                  32 non-null     float64\n",
      " 12  superficie_destinada_a_actividades_agricolas_de_humedad   32 non-null     float64\n",
      " 13  superficie_destinada_a_actividades_agricolas_de_riego     32 non-null     float64\n",
      " 14  superficie_destinada_a_actividades_agricolas_de_temporal  32 non-null     float64\n",
      " 15  superficie_de_cuerpos_de_agua                             32 non-null     float64\n",
      " 16  superficie_destinada_a_actividades_acuicolas              32 non-null     float64\n",
      " 17  area_de_pastizales_cultivados                             32 non-null     float64\n",
      " 18  area_de_pastizales_inducidos                              32 non-null     float64\n",
      " 19  superficie_sin_vegetacion_visible                         32 non-null     float64\n",
      " 20  superficie_desprovista_de_vegetacion                      32 non-null     float64\n",
      " 21  superficie_ocupada_por_asentamientos_humanos              32 non-null     float64\n",
      "dtypes: float64(20), int64(1), object(1)\n",
      "memory usage: 5.6+ KB\n"
     ]
    }
   ],
   "source": [
    "data_0.info()"
   ]
  },
  {
   "cell_type": "code",
   "execution_count": 8,
   "id": "c02f6c5b",
   "metadata": {},
   "outputs": [],
   "source": [
    "data_tuples_0 = [tuple(row) for row in data_0.values]\n",
    "#data_tuples_0"
   ]
  },
  {
   "cell_type": "code",
   "execution_count": 9,
   "id": "dfab452c",
   "metadata": {},
   "outputs": [],
   "source": [
    "# CREATE TABLE statement\n",
    "create_table_0 = \"\"\"\n",
    "CREATE TABLE IF NOT EXISTS superficie_bd.superficie_forestal (\n",
    "    entidad_federativa String,\n",
    "    poblacion UInt32,\n",
    "    superficie_total Float64,\n",
    "    superficie_forestal Float64,\n",
    "    superficie_no_forestal Float64,\n",
    "    superficie_con_arbolado Float64,\n",
    "    area_cubierta_por_bosque Float64,\n",
    "    area_cubierta_por_selva Float64,\n",
    "    area_cubierta_por_manglar Float64,\n",
    "    superficie_cubierta_por_otras_areas_arboladas Float64,\n",
    "    area_cubierta_por_matorral_xerofilo Float64,\n",
    "    area_cubierta_por_otras_areas_forestales Float64,\n",
    "    superficie_destinada_a_actividades_agricolas_de_humedad Float64,\n",
    "    superficie_destinada_a_actividades_agricolas_de_riego Float64,\n",
    "    superficie_destinada_a_actividades_agricolas_de_temporal Float64,\n",
    "    superficie_de_cuerpos_de_agua Float64,\n",
    "    superficie_destinada_a_actividades_acuicolas Float64,\n",
    "    area_de_pastizales_cultivados Float64,\n",
    "    area_de_pastizales_inducidos Float64,\n",
    "    superficie_sin_vegetacion_visible Float64,\n",
    "    superficie_desprovista_de_vegetacion Float64,\n",
    "    superficie_ocupada_por_asentamientos_humanos Float64\n",
    ") ENGINE = MergeTree()\n",
    "ORDER BY entidad_federativa\n",
    "\"\"\""
   ]
  },
  {
   "cell_type": "code",
   "execution_count": 10,
   "id": "ddd9861f",
   "metadata": {},
   "outputs": [
    {
     "name": "stdout",
     "output_type": "stream",
     "text": [
      "Table 'superficie_forestal' created successfully!\n"
     ]
    }
   ],
   "source": [
    "# Execute the CREATE TABLE statement\n",
    "try:\n",
    "    client.command(create_table_0)\n",
    "    print(\"Table 'superficie_forestal' created successfully!\")\n",
    "except Exception as e:\n",
    "    print(f\"Error creating table: {e}\")"
   ]
  },
  {
   "cell_type": "code",
   "execution_count": 11,
   "id": "8818e1b6",
   "metadata": {},
   "outputs": [
    {
     "name": "stdout",
     "output_type": "stream",
     "text": [
      "Successfully inserted 32 rows into superficie_forestal table\n"
     ]
    }
   ],
   "source": [
    "# Insert the DataFrame data\n",
    "try:\n",
    "    client.insert('superficie_bd.superficie_forestal', data_tuples_0)\n",
    "    print(f\"Successfully inserted {len(data_0)} rows into superficie_forestal table\")\n",
    "except Exception as e:\n",
    "    print(f\"Error inserting data: {e}\")"
   ]
  },
  {
   "cell_type": "code",
   "execution_count": 12,
   "id": "32b6d73d",
   "metadata": {},
   "outputs": [
    {
     "name": "stdout",
     "output_type": "stream",
     "text": [
      "('entidad_federativa', 'poblacion', 'area_cubierta_por_bosque')\n"
     ]
    },
    {
     "data": {
      "text/plain": [
       "[('Chihuahua', 3741869, 7007289.07),\n",
       " ('Durango', 1832650, 5193060.023),\n",
       " ('Oaxaca', 4132148, 3714255.441),\n",
       " ('Jalisco', 8348151, 2366019.611),\n",
       " ('Guerrero', 3540685, 2306850.12),\n",
       " ('Sonora', 2944840, 1973339.456),\n",
       " ('Michoacan', 4748846, 1652546.271),\n",
       " ('Chiapas', 5543828, 1591903.464),\n",
       " ('Zacatecas', 1622138, 1084248.013),\n",
       " ('Nayarit', 1235456, 936335.3359),\n",
       " ('Sinaloa', 3026943, 870592.6537),\n",
       " ('Coahuila', 3146771, 836629.6729),\n",
       " ('Nuevo Leon', 5784442, 687653.6271),\n",
       " ('Estado de Mexico', 16992418, 623624.7159),\n",
       " ('Puebla', 6583278, 620601.0796),\n",
       " ('Tamaulipas', 3527735, 607746.5879),\n",
       " ('San Luis Potosi', 2822255, 569355.949),\n",
       " ('Hidalgo', 3082841, 545670.3645),\n",
       " ('Guanajuato', 6166934, 477178.7525),\n",
       " ('Veracruz', 8062579, 315966.6948),\n",
       " ('Queretaro', 2368467, 280065.3956),\n",
       " ('Baja California Norte', 8769020, 176522.3164),\n",
       " ('Aguascalientes', 1425607, 101575.2101),\n",
       " ('Tlaxcala', 1342977, 66710.85055),\n",
       " ('Baja California Sur', 798447, 58469.30527),\n",
       " ('Morelos', 1971520, 54185.63411),\n",
       " ('Colima', 731391, 54113.66966),\n",
       " ('Ciudad de Mexico', 9209944, 40978.76957),\n",
       " ('Tabasco', 2402598, 19657.84685),\n",
       " ('Campeche', 928363, 13460.92522),\n",
       " ('Quintana Roo', 1857985, 0.0),\n",
       " ('Yucatan', 2320898, 0.0)]"
      ]
     },
     "execution_count": 12,
     "metadata": {},
     "output_type": "execute_result"
    }
   ],
   "source": [
    "result = client.query('''SELECT entidad_federativa, poblacion, area_cubierta_por_bosque\n",
    "                        FROM superficie_bd.superficie_forestal\n",
    "                        ORDER BY area_cubierta_por_bosque DESC''')\n",
    "\n",
    "print(result.column_names)\n",
    "result.result_rows"
   ]
  },
  {
   "cell_type": "code",
   "execution_count": 13,
   "id": "507644f7",
   "metadata": {},
   "outputs": [
    {
     "name": "stdout",
     "output_type": "stream",
     "text": [
      "('entidad_federativa', 'area_cubierta_por_selva')\n"
     ]
    },
    {
     "data": {
      "text/plain": [
       "[('Campeche', 3782854.848)]"
      ]
     },
     "execution_count": 13,
     "metadata": {},
     "output_type": "execute_result"
    }
   ],
   "source": [
    "result = client.query('''SELECT entidad_federativa, area_cubierta_por_selva\n",
    "                        FROM superficie_bd.superficie_forestal\n",
    "                        ORDER BY area_cubierta_por_selva DESC\n",
    "                        LIMIT 1''')\n",
    "\n",
    "print(result.column_names)\n",
    "result.result_rows"
   ]
  },
  {
   "cell_type": "code",
   "execution_count": 14,
   "id": "e3ba6991",
   "metadata": {},
   "outputs": [
    {
     "name": "stdout",
     "output_type": "stream",
     "text": [
      "('entidad_federativa', 'indice_bosque_poblacion')\n"
     ]
    },
    {
     "data": {
      "text/plain": [
       "[('Durango', 2.833634367173219),\n",
       " ('Chihuahua', 1.8726708684884479),\n",
       " ('Oaxaca', 0.898867959472894),\n",
       " ('Nayarit', 0.7578864288975082),\n",
       " ('Sonora', 0.6701007375612936),\n",
       " ('Zacatecas', 0.668406765022458),\n",
       " ('Guerrero', 0.651526504052182),\n",
       " ('Michoacan', 0.3479890211221842),\n",
       " ('Sinaloa', 0.28761448553871016),\n",
       " ('Chiapas', 0.28714878311520486),\n",
       " ('Jalisco', 0.28341840139211666),\n",
       " ('Coahuila', 0.26586925864640293),\n",
       " ('San Luis Potosi', 0.2017379538702208),\n",
       " ('Hidalgo', 0.17700243525371565),\n",
       " ('Tamaulipas', 0.17227671236643344),\n",
       " ('Nuevo Leon', 0.11887985515283929),\n",
       " ('Queretaro', 0.11824753969550768),\n",
       " ('Puebla', 0.09426931075977651),\n",
       " ('Guanajuato', 0.07737698384643),\n",
       " ('Colima', 0.07398733325950141),\n",
       " ('Baja California Sur', 0.0732287869702059),\n",
       " ('Aguascalientes', 0.0712504989804343),\n",
       " ('Tlaxcala', 0.04967385930660019),\n",
       " ('Veracruz', 0.03918928357787254),\n",
       " ('Estado de Mexico', 0.03670017509573976),\n",
       " ('Morelos', 0.027484191948344425),\n",
       " ('Baja California Norte', 0.02013022166673129),\n",
       " ('Campeche', 0.014499635616671495),\n",
       " ('Tabasco', 0.008181912600443354),\n",
       " ('Ciudad de Mexico', 0.0044494048574019555),\n",
       " ('Quintana Roo', 0.0),\n",
       " ('Yucatan', 0.0)]"
      ]
     },
     "execution_count": 14,
     "metadata": {},
     "output_type": "execute_result"
    }
   ],
   "source": [
    "result = client.query('''SELECT\n",
    "                            entidad_federativa,\n",
    "                            area_cubierta_por_bosque/poblacion as indice_bosque_poblacion\n",
    "                        FROM superficie_bd.superficie_forestal\n",
    "                        ORDER BY\n",
    "                            area_cubierta_por_bosque/poblacion DESC\n",
    "                        ''')\n",
    "\n",
    "print(result.column_names)\n",
    "result.result_rows"
   ]
  },
  {
   "cell_type": "code",
   "execution_count": 15,
   "id": "1128418b",
   "metadata": {},
   "outputs": [
    {
     "name": "stdout",
     "output_type": "stream",
     "text": [
      "('superficie_no_forestal',)\n"
     ]
    },
    {
     "data": {
      "text/plain": [
       "[(1447249.8808434,)]"
      ]
     },
     "execution_count": 15,
     "metadata": {},
     "output_type": "execute_result"
    }
   ],
   "source": [
    "result = client.query('''SELECT \n",
    "                            SUM(superficie_destinada_a_actividades_agricolas_de_humedad)\n",
    "                            +SUM(superficie_destinada_a_actividades_agricolas_de_riego)\n",
    "                            +SUM(superficie_destinada_a_actividades_agricolas_de_temporal)\n",
    "                            +SUM(superficie_de_cuerpos_de_agua)\n",
    "                            +SUM(superficie_destinada_a_actividades_acuicolas)\n",
    "                            +SUM(area_de_pastizales_cultivados)\n",
    "                            +SUM(area_de_pastizales_inducidos)\n",
    "                            +SUM(superficie_sin_vegetacion_visible)\n",
    "                            +SUM(superficie_desprovista_de_vegetacion)\n",
    "                            +SUM(superficie_ocupada_por_asentamientos_humanos)\n",
    "                        AS superficie_no_forestal\n",
    "                        FROM\n",
    "                          superficie_bd.superficie_forestal\n",
    "                        WHERE\n",
    "                            entidad_federativa = 'Estado de Mexico'\n",
    "                      ''')\n",
    "\n",
    "print(result.column_names)\n",
    "result.result_rows"
   ]
  }
 ],
 "metadata": {
  "kernelspec": {
   "display_name": "base",
   "language": "python",
   "name": "python3"
  },
  "language_info": {
   "codemirror_mode": {
    "name": "ipython",
    "version": 3
   },
   "file_extension": ".py",
   "mimetype": "text/x-python",
   "name": "python",
   "nbconvert_exporter": "python",
   "pygments_lexer": "ipython3",
   "version": "3.11.13"
  }
 },
 "nbformat": 4,
 "nbformat_minor": 5
}
