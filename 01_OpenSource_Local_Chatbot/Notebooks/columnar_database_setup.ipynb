{
 "cells": [
  {
   "cell_type": "code",
   "execution_count": 1,
   "id": "fb531b82",
   "metadata": {},
   "outputs": [],
   "source": [
    "import pandas as pd\n",
    "import clickhouse_connect\n",
    "import os"
   ]
  },
  {
   "cell_type": "code",
   "execution_count": null,
   "id": "477e0758",
   "metadata": {},
   "outputs": [],
   "source": [
    "client = clickhouse_connect.get_client(\n",
    "    host='clickhouse',\n",
    "    port=8123,  # HTTP interface\n",
    "    username='your_user',\n",
    "    password='your_password'\n",
    ")"
   ]
  },
  {
   "cell_type": "code",
   "execution_count": 3,
   "id": "1432bb45",
   "metadata": {},
   "outputs": [
    {
     "data": {
      "text/plain": [
       "<clickhouse_connect.driver.summary.QuerySummary at 0x759e7b6356d0>"
      ]
     },
     "execution_count": 3,
     "metadata": {},
     "output_type": "execute_result"
    }
   ],
   "source": [
    "client.command('DROP DATABASE IF EXISTS superficie_bd')"
   ]
  },
  {
   "cell_type": "code",
   "execution_count": 4,
   "id": "d94f8175",
   "metadata": {},
   "outputs": [
    {
     "data": {
      "text/plain": [
       "<clickhouse_connect.driver.summary.QuerySummary at 0x759e7a244fd0>"
      ]
     },
     "execution_count": 4,
     "metadata": {},
     "output_type": "execute_result"
    }
   ],
   "source": [
    "client.command(\"CREATE DATABASE IF NOT EXISTS superficie_bd\") #creación de base de datos para bosques y cultivos "
   ]
  },
  {
   "cell_type": "code",
   "execution_count": 5,
   "id": "0e732f84",
   "metadata": {},
   "outputs": [
    {
     "name": "stdout",
     "output_type": "stream",
     "text": [
      "[('INFORMATION_SCHEMA',), ('default',), ('information_schema',), ('superficie_bd',), ('system',)]\n"
     ]
    }
   ],
   "source": [
    "print(client.query(\"SHOW DATABASES\").result_rows)"
   ]
  },
  {
   "cell_type": "code",
   "execution_count": 6,
   "id": "8c0cca49",
   "metadata": {},
   "outputs": [],
   "source": [
    "# Read CSV files\n",
    "csv_path_1 = '/usr/workspace/media/00_aprovechamiento_forestal.csv'\n",
    "data_1 = pd.read_csv(csv_path_1)\n",
    "\n",
    "csv_path_2 = '/usr/workspace/media/00_cultivos.csv'\n",
    "data_2 = pd.read_csv(csv_path_2, na_values=['*'])"
   ]
  },
  {
   "cell_type": "code",
   "execution_count": 7,
   "id": "ff63d288",
   "metadata": {},
   "outputs": [
    {
     "name": "stdout",
     "output_type": "stream",
     "text": [
      "<class 'pandas.core.frame.DataFrame'>\n",
      "RangeIndex: 32 entries, 0 to 31\n",
      "Data columns (total 46 columns):\n",
      " #   Column                                                                              Non-Null Count  Dtype  \n",
      "---  ------                                                                              --------------  -----  \n",
      " 0   entidad_federativa                                                                  32 non-null     object \n",
      " 1   poblacion_2020                                                                      32 non-null     int64  \n",
      " 2   superficie_entidad_hectareas                                                        32 non-null     float64\n",
      " 3   total_superficie_forestal_ha                                                        32 non-null     float64\n",
      " 4   superficie_total_de_bosque_ha                                                       32 non-null     float64\n",
      " 5   superficie_total_de_selva_ha                                                        32 non-null     float64\n",
      " 6   superficie_total_de_manglar_ha                                                      32 non-null     float64\n",
      " 7   superficie_otras_asociaciones_ha                                                    32 non-null     float64\n",
      " 8   superficie_subtotal_arbolado_ha                                                     32 non-null     float64\n",
      " 9   superficie_total_matorral_xerofilo_ha                                               32 non-null     float64\n",
      " 10  superficie_total_otras_areas_forestales_ha                                          32 non-null     float64\n",
      " 11  area_no_forestal_agricultura_de_humedad_ha                                          32 non-null     float64\n",
      " 12  area_no_forestal_agricultura_de_riego_ha                                            32 non-null     float64\n",
      " 13  area_no_forestal_agricultura_de_temporal_ha                                         32 non-null     float64\n",
      " 14  area_no_forestal_cuerpo_de_agua_ha                                                  32 non-null     float64\n",
      " 15  area_no_forestal_acuicola_ha                                                        32 non-null     float64\n",
      " 16  area_no_forestal_pastizal_cultivado_ha                                              32 non-null     float64\n",
      " 17  area_no_forestal_pastizal_inducido_ha                                               32 non-null     float64\n",
      " 18  area_no_forestal_sin_vegetacion_aparente_ha                                         32 non-null     float64\n",
      " 19  area_no_forestal_desprovisto_de_vegetacion_ha                                       32 non-null     float64\n",
      " 20  area_no_forestal_asentamientos_humanos_ha                                           32 non-null     float64\n",
      " 21  total_unidades_de_produccion_forestal                                               32 non-null     int64  \n",
      " 22  total_hectareas_produccion_forestal                                                 32 non-null     float64\n",
      " 23  total_unidades_con_superficie_reforestada                                           32 non-null     int64  \n",
      " 24  unidades_reforestadas_para_restauracion_del_entorno_y_proteccion_del_suelo_y_agua   32 non-null     int64  \n",
      " 25  total_superficie_reforestada_hectareas                                              32 non-null     float64\n",
      " 26  superficie_reforestada_para_restauracion_del_entorno_y_proteccion_del_suelo_y_agua  32 non-null     float64\n",
      " 27  total_unidades_de_produccion_con_superficie_deforestada                             32 non-null     int64  \n",
      " 28  total_superficie_deforestada_hectareas                                              32 non-null     float64\n",
      " 29  superficie_deforestada_por_causas_naturales                                         32 non-null     float64\n",
      " 30  unidades_deforestadas_cambio_de_uso_de_suelo_agricola                               32 non-null     int64  \n",
      " 31  superficie_deforestada_cambio_de_uso_de_suelo_agricola                              32 non-null     float64\n",
      " 32  unidades_deforestadas_cambio_de_uso_de_suelo_pastoreo_de_ganado                     32 non-null     int64  \n",
      " 33  superficie_deforestada_cambio_de_uso_de_suelo_pastoreo_de_ganado                    32 non-null     float64\n",
      " 34  unidades_deforestadas_cambio_de_uso_de_suelo_habitacional                           32 non-null     int64  \n",
      " 35  superficie_deforestada_cambio_de_uso_de_suelo_habitacional                          32 non-null     int64  \n",
      " 36  unidades_deforestadas_cambio_de_uso_de_suelo_comercio                               32 non-null     int64  \n",
      " 37  superficie_deforestada_cambio_de_uso_de_suelo_comercio                              32 non-null     float64\n",
      " 38  unidades_deforestadas_cambio_de_uso_de_suelo_industria                              32 non-null     int64  \n",
      " 39  superficie_deforestada_cambio_de_uso_de_suelo_industria                             32 non-null     int64  \n",
      " 40  unidades_deforestadas_cambio_de_uso_de_suelo_servicios                              32 non-null     int64  \n",
      " 41  superficie_deforestada_cambio_de_uso_de_suelo_servicios                             32 non-null     float64\n",
      " 42  unidades_deforestadas_cambio_de_uso_de_suelo_forestal                               32 non-null     int64  \n",
      " 43  superficie_deforestada_cambio_de_uso_de_suelo_forestal                              32 non-null     float64\n",
      " 44  unidades_deforestadas_cambio_de_uso_de_suelo_otros_usos                             32 non-null     int64  \n",
      " 45  superficie_deforestada_cambio_de_uso_de_suelo_otros_usos                            32 non-null     float64\n",
      "dtypes: float64(30), int64(15), object(1)\n",
      "memory usage: 11.6+ KB\n"
     ]
    }
   ],
   "source": [
    "data_1.info()"
   ]
  },
  {
   "cell_type": "code",
   "execution_count": 8,
   "id": "c02f6c5b",
   "metadata": {},
   "outputs": [],
   "source": [
    "data_tuples_1 = [tuple(row) for row in data_1.values]\n",
    "#data_tuples_1"
   ]
  },
  {
   "cell_type": "code",
   "execution_count": 9,
   "id": "dfab452c",
   "metadata": {},
   "outputs": [],
   "source": [
    "# CREATE TABLE statement\n",
    "create_table_1 = \"\"\"\n",
    "CREATE TABLE IF NOT EXISTS superficie_bd.superficie_forestal (\n",
    "    entidad_federativa String,\n",
    "    poblacion_2020 UInt32,\n",
    "    superficie_entidad_hectareas Float64,\n",
    "    total_superficie_forestal_ha Float64,\n",
    "    superficie_total_de_bosque_ha Float64,\n",
    "    superficie_total_de_selva_ha Float64,\n",
    "    superficie_total_de_manglar_ha Float64,\n",
    "    superficie_otras_asociaciones_ha Float64,\n",
    "    superficie_subtotal_arbolado_ha Float64,\n",
    "    superficie_total_matorral_xerofilo_ha Float64,\n",
    "    superficie_total_otras_areas_forestales_ha Float64,\n",
    "    area_no_forestal_agricultura_de_humedad_ha Float64,\n",
    "    area_no_forestal_agricultura_de_riego_ha Float64,\n",
    "    area_no_forestal_agricultura_de_temporal_ha Float64,\n",
    "    area_no_forestal_cuerpo_de_agua_ha Float64,\n",
    "    area_no_forestal_acuicola_ha Float64,\n",
    "    area_no_forestal_pastizal_cultivado_ha Float64,\n",
    "    area_no_forestal_pastizal_inducido_ha Float64,\n",
    "    area_no_forestal_sin_vegetacion_aparente_ha Float64,\n",
    "    area_no_forestal_desprovisto_de_vegetacion_ha Float64,\n",
    "    area_no_forestal_asentamientos_humanos_ha Float64,\n",
    "    total_unidades_de_produccion_forestal UInt32,\n",
    "    total_hectareas_produccion_forestal Float64,\n",
    "    total_unidades_con_superficie_reforestada UInt32,\n",
    "    unidades_reforestadas_para_restauracion_del_entorno_y_proteccion_del_suelo_y_agua UInt32,\n",
    "    total_superficie_reforestada_hectareas Float64,\n",
    "    superficie_reforestada_para_restauracion_del_entorno_y_proteccion_del_suelo_y_agua Float64,\n",
    "    total_unidades_de_produccion_con_superficie_deforestada UInt32,\n",
    "    total_superficie_deforestada_hectareas Float64,\n",
    "    superficie_deforestada_por_causas_naturales Float64,\n",
    "    unidades_deforestadas_cambio_de_uso_de_suelo_agricola UInt32,\n",
    "    superficie_deforestada_cambio_de_uso_de_suelo_agricola Float64,\n",
    "    unidades_deforestadas_cambio_de_uso_de_suelo_pastoreo_de_ganado UInt32,\n",
    "    superficie_deforestada_cambio_de_uso_de_suelo_pastoreo_de_ganado Float64,\n",
    "    unidades_deforestadas_cambio_de_uso_de_suelo_habitacional UInt32,\n",
    "    superficie_deforestada_cambio_de_uso_de_suelo_habitacional Float64,\n",
    "    unidades_deforestadas_cambio_de_uso_de_suelo_comercio UInt32,\n",
    "    superficie_deforestada_cambio_de_uso_de_suelo_comercio Float64,\n",
    "    unidades_deforestadas_cambio_de_uso_de_suelo_industria UInt32,\n",
    "    superficie_deforestada_cambio_de_uso_de_suelo_industria Float64,\n",
    "    unidades_deforestadas_cambio_de_uso_de_suelo_servicios UInt32,\n",
    "    superficie_deforestada_cambio_de_uso_de_suelo_servicios Float64,\n",
    "    unidades_deforestadas_cambio_de_uso_de_suelo_forestal UInt32,\n",
    "    superficie_deforestada_cambio_de_uso_de_suelo_forestal Float64,\n",
    "    unidades_deforestadas_cambio_de_uso_de_suelo_otros_usos UInt32,\n",
    "    superficie_deforestada_cambio_de_uso_de_suelo_otros_usos Float64\n",
    ") ENGINE = MergeTree()\n",
    "ORDER BY entidad_federativa\n",
    "\"\"\""
   ]
  },
  {
   "cell_type": "code",
   "execution_count": 10,
   "id": "ddd9861f",
   "metadata": {},
   "outputs": [
    {
     "name": "stdout",
     "output_type": "stream",
     "text": [
      "Table 'superficie_forestal' created successfully!\n"
     ]
    }
   ],
   "source": [
    "# Execute the CREATE TABLE statement\n",
    "try:\n",
    "    client.command(create_table_1)\n",
    "    print(\"Table 'superficie_forestal' created successfully!\")\n",
    "except Exception as e:\n",
    "    print(f\"Error creating table: {e}\")"
   ]
  },
  {
   "cell_type": "code",
   "execution_count": 11,
   "id": "8818e1b6",
   "metadata": {},
   "outputs": [
    {
     "name": "stdout",
     "output_type": "stream",
     "text": [
      "Successfully inserted 32 rows into superficie_forestal table\n"
     ]
    }
   ],
   "source": [
    "# Insert the DataFrame data\n",
    "try:\n",
    "    client.insert('superficie_bd.superficie_forestal', data_tuples_1)\n",
    "    print(f\"Successfully inserted {len(data_1)} rows into superficie_forestal table\")\n",
    "except Exception as e:\n",
    "    print(f\"Error inserting data: {e}\")"
   ]
  },
  {
   "cell_type": "code",
   "execution_count": 12,
   "id": "c5b05d5d",
   "metadata": {},
   "outputs": [
    {
     "name": "stdout",
     "output_type": "stream",
     "text": [
      "<class 'pandas.core.frame.DataFrame'>\n",
      "RangeIndex: 42951 entries, 0 to 42950\n",
      "Data columns (total 18 columns):\n",
      " #   Column                                   Non-Null Count  Dtype  \n",
      "---  ------                                   --------------  -----  \n",
      " 0   clave_entidad_federativa                 42951 non-null  object \n",
      " 1   entidad_federativa                       42951 non-null  object \n",
      " 2   municipio                                42951 non-null  object \n",
      " 3   tipo_cultivo                             42951 non-null  object \n",
      " 4   cultivo                                  42951 non-null  object \n",
      " 5   total_unidades_produccion_activas        30106 non-null  float64\n",
      " 6   total_unidades_cultivo_cielo_abierto     30106 non-null  float64\n",
      " 7   total_superficie_sembrada_hectareas      42951 non-null  float64\n",
      " 8   total_superficie_cosechada_hectareas     42951 non-null  float64\n",
      " 9   total_produccion_toneladas_cosechadas    42951 non-null  float64\n",
      " 10  unidades_produccion_temporal             30106 non-null  float64\n",
      " 11  superficie_sembrada_temporal_hectareas   42951 non-null  float64\n",
      " 12  superficie_cosechada_temporal_hectareas  42951 non-null  float64\n",
      " 13  produccion_temporal_toneladas            42951 non-null  float64\n",
      " 14  unidades_produccion_riego                30106 non-null  float64\n",
      " 15  superficie_sembrada_riego_hectareas      42951 non-null  float64\n",
      " 16  superficie_cosechada_riego_hectareas     42951 non-null  float64\n",
      " 17  produccion_riego_toneladas               42951 non-null  float64\n",
      "dtypes: float64(13), object(5)\n",
      "memory usage: 5.9+ MB\n"
     ]
    }
   ],
   "source": [
    "data_2.info()"
   ]
  },
  {
   "cell_type": "code",
   "execution_count": 13,
   "id": "f68e98f5",
   "metadata": {},
   "outputs": [],
   "source": [
    "data_tuples_2 = [tuple(row) for row in data_2.values]"
   ]
  },
  {
   "cell_type": "code",
   "execution_count": 14,
   "id": "f3b42a90",
   "metadata": {},
   "outputs": [],
   "source": [
    "# CREATE TABLE statement\n",
    "create_table_2 = \"\"\"\n",
    "CREATE TABLE IF NOT EXISTS superficie_bd.cultivos (\n",
    "    clave_entidad_federativa String,\n",
    "    entidad_federativa String,\n",
    "    municipio String,\n",
    "    tipo_cultivo String,\n",
    "    cultivo String,\n",
    "    total_unidades_produccion_activas Float64,\n",
    "    total_unidades_cultivo_cielo_abierto Float64,\n",
    "    total_superficie_sembrada_hectareas Float64,\n",
    "    total_superficie_cosechada_hectareas Float64,\n",
    "    total_produccion_toneladas_cosechadas Float64,\n",
    "    unidades_produccion_temporal Float64,\n",
    "    superficie_sembrada_temporal_hectareas Float64,\n",
    "    superficie_cosechada_temporal_hectareas Float64,\n",
    "    produccion_temporal_toneladas Float64,\n",
    "    unidades_produccion_riego Float64,\n",
    "    superficie_sembrada_riego_hectareas Float64,\n",
    "    superficie_cosechada_riego_hectareas Float64,\n",
    "    produccion_riego_toneladas Float64\n",
    ") ENGINE = MergeTree()\n",
    "ORDER BY (entidad_federativa, cultivo, municipio, tipo_cultivo)\n",
    "\"\"\""
   ]
  },
  {
   "cell_type": "code",
   "execution_count": 15,
   "id": "498516e8",
   "metadata": {},
   "outputs": [
    {
     "name": "stdout",
     "output_type": "stream",
     "text": [
      "Table 'cultivos' created successfully!\n"
     ]
    }
   ],
   "source": [
    "# Execute the CREATE TABLE statement\n",
    "try:\n",
    "    client.command(create_table_2)\n",
    "    print(\"Table 'cultivos' created successfully!\")\n",
    "except Exception as e:\n",
    "    print(f\"Error creating table: {e}\")"
   ]
  },
  {
   "cell_type": "code",
   "execution_count": 16,
   "id": "0c298ed2",
   "metadata": {},
   "outputs": [
    {
     "name": "stdout",
     "output_type": "stream",
     "text": [
      "Successfully inserted 42951 rows into cultivos table\n"
     ]
    }
   ],
   "source": [
    "# Insert the DataFrame data\n",
    "try:\n",
    "    client.insert('superficie_bd.cultivos', data_tuples_2)\n",
    "    print(f\"Successfully inserted {len(data_2)} rows into cultivos table\")\n",
    "except Exception as e:\n",
    "    print(f\"Error inserting data: {e}\")"
   ]
  },
  {
   "cell_type": "code",
   "execution_count": 17,
   "id": "bdb31dfa",
   "metadata": {},
   "outputs": [
    {
     "data": {
      "text/plain": [
       "[('Chihuahua', 3741869, 21610804.96),\n",
       " ('Sonora', 2944840, 14947828.6),\n",
       " ('Coahuila de Zaragoza', 3146771, 13742860.65),\n",
       " ('Durango', 1832650, 10618110.32),\n",
       " ('Baja California Sur', 798447, 6818426.016),\n",
       " ('Oaxaca', 4132148, 6692729.994),\n",
       " ('Baja California', 8769020, 6299637.143),\n",
       " ('Zacatecas', 1622138, 5224235.25),\n",
       " ('Jalisco', 8348151, 4546511.5),\n",
       " ('Guerrero', 3540685, 4339165.146),\n",
       " ('Campeche', 928363, 4330835.342),\n",
       " ('San Luis Potosí', 2822255, 4248261.253),\n",
       " ('Nuevo León', 5784442, 4196112.14),\n",
       " ('Quintana Roo', 1857985, 3877252.915),\n",
       " ('Tamaulipas', 3527735, 3823023.045),\n",
       " ('Chiapas', 5543828, 3585555.074),\n",
       " ('Michoacán de Ocampo', 4748846, 3519015.468),\n",
       " ('Sinaloa', 3026943, 3205202.299),\n",
       " ('Yucatán', 2320898, 2694374.543),\n",
       " ('Nayarit', 1235456, 1918333.334),\n",
       " ('Puebla', 6583278, 1573554.131),\n",
       " ('Veracruz de Ignacio de la Llave', 8062579, 1471181.313),\n",
       " ('Guanajuato', 6166934, 1262179.569),\n",
       " ('Hidalgo', 3082841, 962134.053),\n",
       " ('Tabasco', 2402598, 817154.1303),\n",
       " ('México', 16992418, 788503.864),\n",
       " ('Querétaro', 2368467, 696347.8547),\n",
       " ('Colima', 731391, 323599.4485),\n",
       " ('Aguascalientes', 1425607, 259634.7848),\n",
       " ('Morelos', 1971520, 183780.496),\n",
       " ('Tlaxcala', 1342977, 74169.96677),\n",
       " ('Ciudad de México', 9209944, 44715.17727)]"
      ]
     },
     "execution_count": 17,
     "metadata": {},
     "output_type": "execute_result"
    }
   ],
   "source": [
    "result = client.query('''SELECT entidad_federativa, poblacion_2020, total_superficie_forestal_ha\n",
    "                        FROM superficie_bd.superficie_forestal\n",
    "                        ORDER BY total_superficie_forestal_ha DESC''')\n",
    "result.result_rows"
   ]
  }
 ],
 "metadata": {
  "kernelspec": {
   "display_name": "base",
   "language": "python",
   "name": "python3"
  },
  "language_info": {
   "codemirror_mode": {
    "name": "ipython",
    "version": 3
   },
   "file_extension": ".py",
   "mimetype": "text/x-python",
   "name": "python",
   "nbconvert_exporter": "python",
   "pygments_lexer": "ipython3",
   "version": "3.11.13"
  }
 },
 "nbformat": 4,
 "nbformat_minor": 5
}
