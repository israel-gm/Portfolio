{
 "cells": [
  {
   "cell_type": "code",
   "execution_count": 1,
   "id": "fb531b82",
   "metadata": {},
   "outputs": [],
   "source": [
    "import pandas as pd\n",
    "import clickhouse_connect\n",
    "import os"
   ]
  },
  {
   "cell_type": "code",
   "execution_count": null,
   "id": "477e0758",
   "metadata": {},
   "outputs": [],
   "source": [
    "client = clickhouse_connect.get_client(\n",
    "    host='clickhouse',\n",
    "    port=8123,  # HTTP interface\n",
    "    username='abc',\n",
    "    password='xyz'\n",
    ")"
   ]
  },
  {
   "cell_type": "code",
   "execution_count": 3,
   "id": "1432bb45",
   "metadata": {},
   "outputs": [
    {
     "data": {
      "text/plain": [
       "<clickhouse_connect.driver.summary.QuerySummary at 0x789f5de13950>"
      ]
     },
     "execution_count": 3,
     "metadata": {},
     "output_type": "execute_result"
    }
   ],
   "source": [
    "client.command('DROP DATABASE IF EXISTS superficie_bd')"
   ]
  },
  {
   "cell_type": "code",
   "execution_count": 4,
   "id": "d94f8175",
   "metadata": {},
   "outputs": [
    {
     "data": {
      "text/plain": [
       "<clickhouse_connect.driver.summary.QuerySummary at 0x789e2a836a50>"
      ]
     },
     "execution_count": 4,
     "metadata": {},
     "output_type": "execute_result"
    }
   ],
   "source": [
    "client.command(\"CREATE DATABASE IF NOT EXISTS superficie_bd\") #creación de base de datos para bosques y cultivos "
   ]
  },
  {
   "cell_type": "code",
   "execution_count": 5,
   "id": "0e732f84",
   "metadata": {},
   "outputs": [
    {
     "name": "stdout",
     "output_type": "stream",
     "text": [
      "[('INFORMATION_SCHEMA',), ('default',), ('information_schema',), ('superficie_bd',), ('system',)]\n"
     ]
    }
   ],
   "source": [
    "print(client.query(\"SHOW DATABASES\").result_rows)"
   ]
  },
  {
   "cell_type": "code",
   "execution_count": 6,
   "id": "8c0cca49",
   "metadata": {},
   "outputs": [],
   "source": [
    "# Read CSV files\n",
    "csv_path_0 = '/usr/workspace/media/00_superficie_forestal.csv'\n",
    "data_0 = pd.read_csv(csv_path_0)"
   ]
  },
  {
   "cell_type": "code",
   "execution_count": 7,
   "id": "ff63d288",
   "metadata": {},
   "outputs": [
    {
     "name": "stdout",
     "output_type": "stream",
     "text": [
      "<class 'pandas.core.frame.DataFrame'>\n",
      "RangeIndex: 32 entries, 0 to 31\n",
      "Data columns (total 22 columns):\n",
      " #   Column                                                    Non-Null Count  Dtype  \n",
      "---  ------                                                    --------------  -----  \n",
      " 0   entidad_federativa                                        32 non-null     object \n",
      " 1   poblacion                                                 32 non-null     int64  \n",
      " 2   superficie_total                                          32 non-null     float64\n",
      " 3   superficie_forestal                                       32 non-null     float64\n",
      " 4   superficie_no_forestal                                    32 non-null     float64\n",
      " 5   superficie_con_arbolado                                   32 non-null     float64\n",
      " 6   superficie_cubierta_por_bosque                            32 non-null     float64\n",
      " 7   superficie_cubierta_por_selva                             32 non-null     float64\n",
      " 8   superficie_cubierta_por_manglar                           32 non-null     float64\n",
      " 9   superficie_cubierta_por_otras_areas_arboladas             32 non-null     float64\n",
      " 10  superficie_cubierta_por_matorral_xerofilo                 32 non-null     float64\n",
      " 11  superficie_cubierta_por_otras_areas_forestales            32 non-null     float64\n",
      " 12  superficie_destinada_a_actividades_agricolas_de_humedad   32 non-null     float64\n",
      " 13  superficie_destinada_a_actividades_agricolas_de_riego     32 non-null     float64\n",
      " 14  superficie_destinada_a_actividades_agricolas_de_temporal  32 non-null     float64\n",
      " 15  superficie_cubierta_por_cuerpos_de_agua                   32 non-null     float64\n",
      " 16  superficie_destinada_a_actividades_acuicolas              32 non-null     float64\n",
      " 17  superficie_de_pastizales_cultivados                       32 non-null     float64\n",
      " 18  superficie_de_pastizales_inducidos                        32 non-null     float64\n",
      " 19  superficie_sin_vegetacion_visible                         32 non-null     float64\n",
      " 20  superficie_desprovista_de_vegetacion                      32 non-null     float64\n",
      " 21  superficie_ocupada_por_asentamientos_humanos              32 non-null     float64\n",
      "dtypes: float64(20), int64(1), object(1)\n",
      "memory usage: 5.6+ KB\n"
     ]
    }
   ],
   "source": [
    "data_0.info()"
   ]
  },
  {
   "cell_type": "code",
   "execution_count": 8,
   "id": "c02f6c5b",
   "metadata": {},
   "outputs": [],
   "source": [
    "data_tuples_0 = [tuple(row) for row in data_0.values]\n",
    "#data_tuples_0"
   ]
  },
  {
   "cell_type": "code",
   "execution_count": 9,
   "id": "dfab452c",
   "metadata": {},
   "outputs": [],
   "source": [
    "# CREATE TABLE statement\n",
    "create_table_0 = \"\"\"\n",
    "CREATE TABLE IF NOT EXISTS superficie_bd.superficie_forestal (\n",
    "    entidad_federativa String,\n",
    "    poblacion UInt32,\n",
    "    superficie_total Float64,\n",
    "    superficie_forestal Float64,\n",
    "    superficie_no_forestal Float64,\n",
    "    superficie_con_arbolado Float64,\n",
    "    superficie_cubierta_por_bosque Float64,\n",
    "    superficie_cubierta_por_selva Float64,\n",
    "    superficie_cubierta_por_manglar Float64,\n",
    "    superficie_cubierta_por_otras_areas_arboladas Float64,\n",
    "    superficie_cubierta_por_matorral_xerofilo Float64,\n",
    "    superficie_cubierta_por_otras_areas_forestales Float64,\n",
    "    superficie_destinada_a_actividades_agricolas_de_humedad Float64,\n",
    "    superficie_destinada_a_actividades_agricolas_de_riego Float64,\n",
    "    superficie_destinada_a_actividades_agricolas_de_temporal Float64,\n",
    "    superficie_cubierta_por_cuerpos_de_agua Float64,\n",
    "    superficie_destinada_a_actividades_acuicolas Float64,\n",
    "    superficie_de_pastizales_cultivados Float64,\n",
    "    superficie_de_pastizales_inducidos Float64,\n",
    "    superficie_sin_vegetacion_visible Float64,\n",
    "    superficie_desprovista_de_vegetacion Float64,\n",
    "    superficie_ocupada_por_asentamientos_humanos Float64\n",
    ") ENGINE = MergeTree()\n",
    "ORDER BY entidad_federativa\n",
    "\"\"\""
   ]
  },
  {
   "cell_type": "code",
   "execution_count": 10,
   "id": "ddd9861f",
   "metadata": {},
   "outputs": [
    {
     "name": "stdout",
     "output_type": "stream",
     "text": [
      "Table 'superficie_forestal' created successfully!\n"
     ]
    }
   ],
   "source": [
    "# Execute the CREATE TABLE statement\n",
    "try:\n",
    "    client.command(create_table_0)\n",
    "    print(\"Table 'superficie_forestal' created successfully!\")\n",
    "except Exception as e:\n",
    "    print(f\"Error creating table: {e}\")"
   ]
  },
  {
   "cell_type": "code",
   "execution_count": 11,
   "id": "8818e1b6",
   "metadata": {},
   "outputs": [
    {
     "name": "stdout",
     "output_type": "stream",
     "text": [
      "Successfully inserted 32 rows into superficie_forestal table\n"
     ]
    }
   ],
   "source": [
    "# Insert the DataFrame data\n",
    "try:\n",
    "    client.insert('superficie_bd.superficie_forestal', data_tuples_0)\n",
    "    print(f\"Successfully inserted {len(data_0)} rows into superficie_forestal table\")\n",
    "except Exception as e:\n",
    "    print(f\"Error inserting data: {e}\")"
   ]
  },
  {
   "cell_type": "code",
   "execution_count": 12,
   "id": "32b6d73d",
   "metadata": {},
   "outputs": [
    {
     "name": "stdout",
     "output_type": "stream",
     "text": [
      "('entidad_federativa', 'poblacion', 'round(divide(superficie_cubierta_por_bosque, 1000), 1)')\n"
     ]
    },
    {
     "data": {
      "text/plain": [
       "[('Chihuahua', 3741869, 7007.3),\n",
       " ('Durango', 1832650, 5193.1),\n",
       " ('Oaxaca', 4132148, 3714.3),\n",
       " ('Jalisco', 8348151, 2366.0),\n",
       " ('Guerrero', 3540685, 2306.9),\n",
       " ('Sonora', 2944840, 1973.3),\n",
       " ('Michoacan', 4748846, 1652.5),\n",
       " ('Chiapas', 5543828, 1591.9),\n",
       " ('Zacatecas', 1622138, 1084.2),\n",
       " ('Nayarit', 1235456, 936.3),\n",
       " ('Sinaloa', 3026943, 870.6),\n",
       " ('Coahuila', 3146771, 836.6),\n",
       " ('Nuevo Leon', 5784442, 687.7),\n",
       " ('Estado de Mexico', 16992418, 623.6),\n",
       " ('Puebla', 6583278, 620.6),\n",
       " ('Tamaulipas', 3527735, 607.7),\n",
       " ('San Luis Potosi', 2822255, 569.4),\n",
       " ('Hidalgo', 3082841, 545.7),\n",
       " ('Guanajuato', 6166934, 477.2),\n",
       " ('Veracruz', 8062579, 316.0),\n",
       " ('Queretaro', 2368467, 280.1),\n",
       " ('Baja California Norte', 8769020, 176.5),\n",
       " ('Aguascalientes', 1425607, 101.6),\n",
       " ('Tlaxcala', 1342977, 66.7),\n",
       " ('Baja California Sur', 798447, 58.5),\n",
       " ('Morelos', 1971520, 54.2),\n",
       " ('Colima', 731391, 54.1),\n",
       " ('Ciudad de Mexico', 9209944, 41.0),\n",
       " ('Tabasco', 2402598, 19.7),\n",
       " ('Campeche', 928363, 13.5),\n",
       " ('Quintana Roo', 1857985, 0.0),\n",
       " ('Yucatan', 2320898, 0.0)]"
      ]
     },
     "execution_count": 12,
     "metadata": {},
     "output_type": "execute_result"
    }
   ],
   "source": [
    "result = client.query('''SELECT entidad_federativa, poblacion, round(superficie_cubierta_por_bosque/1000,1)\n",
    "                        FROM superficie_bd.superficie_forestal\n",
    "                        ORDER BY superficie_cubierta_por_bosque DESC''')\n",
    "\n",
    "print(result.column_names)\n",
    "result.result_rows"
   ]
  },
  {
   "cell_type": "code",
   "execution_count": 15,
   "id": "507644f7",
   "metadata": {},
   "outputs": [
    {
     "name": "stdout",
     "output_type": "stream",
     "text": [
      "('entidad_federativa', 'superficie_cubierta_por_selva')\n"
     ]
    },
    {
     "data": {
      "text/plain": [
       "[('Campeche', 3782854.848)]"
      ]
     },
     "execution_count": 15,
     "metadata": {},
     "output_type": "execute_result"
    }
   ],
   "source": [
    "result = client.query('''SELECT entidad_federativa, superficie_cubierta_por_selva\n",
    "                            FROM superficie_bd.superficie_forestal\n",
    "                            ORDER BY superficie_cubierta_por_selva DESC\n",
    "                            LIMIT 1''')\n",
    "\n",
    "print(result.column_names)\n",
    "result.result_rows"
   ]
  },
  {
   "cell_type": "code",
   "execution_count": 16,
   "id": "e3ba6991",
   "metadata": {},
   "outputs": [
    {
     "name": "stdout",
     "output_type": "stream",
     "text": [
      "('entidad_federativa', 'indice_bosque_poblacion')\n"
     ]
    },
    {
     "data": {
      "text/plain": [
       "[('Durango', 283.36),\n",
       " ('Chihuahua', 187.27),\n",
       " ('Oaxaca', 89.89),\n",
       " ('Nayarit', 75.79),\n",
       " ('Sonora', 67.01),\n",
       " ('Zacatecas', 66.84),\n",
       " ('Guerrero', 65.15),\n",
       " ('Michoacan', 34.8),\n",
       " ('Sinaloa', 28.76),\n",
       " ('Chiapas', 28.71),\n",
       " ('Jalisco', 28.34),\n",
       " ('Coahuila', 26.59),\n",
       " ('San Luis Potosi', 20.17),\n",
       " ('Hidalgo', 17.7),\n",
       " ('Tamaulipas', 17.23),\n",
       " ('Nuevo Leon', 11.89),\n",
       " ('Queretaro', 11.82),\n",
       " ('Puebla', 9.43),\n",
       " ('Guanajuato', 7.74),\n",
       " ('Colima', 7.4),\n",
       " ('Baja California Sur', 7.32),\n",
       " ('Aguascalientes', 7.13),\n",
       " ('Tlaxcala', 4.97),\n",
       " ('Veracruz', 3.92),\n",
       " ('Estado de Mexico', 3.67),\n",
       " ('Morelos', 2.75),\n",
       " ('Baja California Norte', 2.01),\n",
       " ('Campeche', 1.45),\n",
       " ('Tabasco', 0.82),\n",
       " ('Ciudad de Mexico', 0.44),\n",
       " ('Quintana Roo', 0.0),\n",
       " ('Yucatan', 0.0)]"
      ]
     },
     "execution_count": 16,
     "metadata": {},
     "output_type": "execute_result"
    }
   ],
   "source": [
    "result = client.query('''SELECT\n",
    "                            entidad_federativa,\n",
    "                            round(100*superficie_cubierta_por_bosque/poblacion,2) as indice_bosque_poblacion\n",
    "                        FROM superficie_bd.superficie_forestal\n",
    "                        ORDER BY\n",
    "                            superficie_cubierta_por_bosque/poblacion DESC\n",
    "                        ''')\n",
    "\n",
    "print(result.column_names)\n",
    "result.result_rows"
   ]
  },
  {
   "cell_type": "code",
   "execution_count": 17,
   "id": "1128418b",
   "metadata": {},
   "outputs": [
    {
     "name": "stdout",
     "output_type": "stream",
     "text": [
      "('entidad_federativa', 'indice_matorral_xerofilo_superficie')\n"
     ]
    },
    {
     "data": {
      "text/plain": [
       "[('Baja California Norte', 79.12),\n",
       " ('Baja California Sur', 75.83),\n",
       " ('Coahuila', 75.27),\n",
       " ('Sonora', 54.34),\n",
       " ('Nuevo Leon', 52.1),\n",
       " ('San Luis Potosi', 47.59),\n",
       " ('Zacatecas', 35.55),\n",
       " ('Chihuahua', 34.41),\n",
       " ('Tamaulipas', 26.49),\n",
       " ('Queretaro', 22.36),\n",
       " ('Durango', 21.26),\n",
       " ('Hidalgo', 13.43),\n",
       " ('Puebla', 8.18),\n",
       " ('Guanajuato', 6.89),\n",
       " ('Aguascalientes', 6.36),\n",
       " ('Sinaloa', 2.38),\n",
       " ('Colima', 1.67),\n",
       " ('Tlaxcala', 1.58),\n",
       " ('Estado de Mexico', 0.77),\n",
       " ('Ciudad de Mexico', 0.65),\n",
       " ('Oaxaca', 0.61),\n",
       " ('Jalisco', 0.19),\n",
       " ('Veracruz', 0.18),\n",
       " ('Nayarit', 0.16),\n",
       " ('Michoacan', 0.06),\n",
       " ('Morelos', 0.05),\n",
       " ('Chiapas', 0.0),\n",
       " ('Guerrero', 0.0),\n",
       " ('Quintana Roo', 0.0),\n",
       " ('Tabasco', 0.0),\n",
       " ('Campeche', 0.0),\n",
       " ('Yucatan', 0.0)]"
      ]
     },
     "execution_count": 17,
     "metadata": {},
     "output_type": "execute_result"
    }
   ],
   "source": [
    "result = client.query('''SELECT\n",
    "                            entidad_federativa,\n",
    "                            round(100*superficie_cubierta_por_matorral_xerofilo/superficie_total,2) as indice_matorral_xerofilo_superficie\n",
    "                        FROM superficie_bd.superficie_forestal\n",
    "                        ORDER BY\n",
    "                            superficie_cubierta_por_matorral_xerofilo/superficie_total DESC\n",
    "                        ''')\n",
    "\n",
    "print(result.column_names)\n",
    "result.result_rows"
   ]
  }
 ],
 "metadata": {
  "kernelspec": {
   "display_name": "base",
   "language": "python",
   "name": "python3"
  },
  "language_info": {
   "codemirror_mode": {
    "name": "ipython",
    "version": 3
   },
   "file_extension": ".py",
   "mimetype": "text/x-python",
   "name": "python",
   "nbconvert_exporter": "python",
   "pygments_lexer": "ipython3",
   "version": "3.11.13"
  }
 },
 "nbformat": 4,
 "nbformat_minor": 5
}
