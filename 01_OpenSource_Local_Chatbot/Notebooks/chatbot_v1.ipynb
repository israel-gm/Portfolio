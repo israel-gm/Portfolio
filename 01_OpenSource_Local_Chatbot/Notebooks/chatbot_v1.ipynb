{
 "cells": [
  {
   "cell_type": "markdown",
   "id": "8e75b53a",
   "metadata": {},
   "source": [
    "# Open source local Chatbot\n",
    "\n",
    "Database connection"
   ]
  },
  {
   "cell_type": "code",
   "execution_count": null,
   "id": "9456e016",
   "metadata": {},
   "outputs": [],
   "source": [
    "import clickhouse_connect\n",
    "\n",
    "client = clickhouse_connect.get_client(\n",
    "    host='clickhouse',\n",
    "    port=8123,  # HTTP interface\n",
    "    username='abc',\n",
    "    password='xyz'\n",
    ")"
   ]
  },
  {
   "cell_type": "code",
   "execution_count": 2,
   "id": "9f3d1b3e",
   "metadata": {},
   "outputs": [],
   "source": [
    "schema_info = \"\"\"superficie_bd.superficie_forestal (\n",
    "    entidad_federativa String,\n",
    "    poblacion UInt32,\n",
    "    superficie_total Float64,\n",
    "    superficie_forestal Float64,\n",
    "    superficie_no_forestal Float64,\n",
    "    superficie_con_arbolado Float64,\n",
    "    area_cubierta_por_bosque Float64,\n",
    "    area_cubierta_por_selva Float64,\n",
    "    area_cubierta_por_manglar Float64,\n",
    "    superficie_cubierta_por_otras_areas_arboladas Float64,\n",
    "    area_cubierta_por_matorral_xerofilo Float64,\n",
    "    area_cubierta_por_otras_areas_forestales Float64,\n",
    "    superficie_destinada_a_actividades_agricolas_de_humedad Float64,\n",
    "    superficie_destinada_a_actividades_agricolas_de_riego Float64,\n",
    "    superficie_destinada_a_actividades_agricolas_de_temporal Float64,\n",
    "    superficie_de_cuerpos_de_agua Float64,\n",
    "    superficie_destinada_a_actividades_acuicolas Float64,\n",
    "    area_de_pastizales_cultivados Float64,\n",
    "    area_de_pastizales_inducidos Float64,\n",
    "    superficie_sin_vegetacion_visible Float64,\n",
    "    superficie_desprovista_de_vegetacion Float64,\n",
    "    superficie_ocupada_por_asentamientos_humanos Float64\n",
    ")\n",
    "\"\"\""
   ]
  },
  {
   "cell_type": "code",
   "execution_count": 3,
   "id": "a43ff5fb",
   "metadata": {},
   "outputs": [],
   "source": [
    "entidad_federativa = \"['Aguascalientes', 'Baja California Norte', 'Baja California Sur', 'Campeche', 'Coahuila', 'Colima', 'Chiapas', 'Chihuahua', 'Ciudad de Mexico', 'Durango', 'Guanajuato', 'Guerrero', 'Hidalgo', 'Jalisco', 'Estado de Mexico', 'Michoacan', 'Morelos', 'Nayarit', 'Nuevo Leon', 'Oaxaca', 'Puebla', 'Queretaro', 'Quintana Roo', 'San Luis Potosi', 'Sinaloa', 'Sonora', 'Tabasco', 'Tamaulipas', 'Tlaxcala', 'Veracruz', 'Yucatan', 'Zacatecas']\""
   ]
  },
  {
   "cell_type": "code",
   "execution_count": 18,
   "id": "00a4dc79",
   "metadata": {},
   "outputs": [
    {
     "data": {
      "application/vnd.jupyter.widget-view+json": {
       "model_id": "29df3edea78a4d98b89b922e81502284",
       "version_major": 2,
       "version_minor": 0
      },
      "text/plain": [
       "Loading checkpoint shards:   0%|          | 0/3 [00:00<?, ?it/s]"
      ]
     },
     "metadata": {},
     "output_type": "display_data"
    }
   ],
   "source": [
    "import torch\n",
    "from transformers import AutoTokenizer, AutoModelForCausalLM, StoppingCriteria, StoppingCriteriaList\n",
    "\n",
    "# load globally so it's not reloaded every call\n",
    "device = \"cuda\" if torch.cuda.is_available() else \"cpu\"\n",
    "model_path = \"merged_model\"\n",
    "tokenizer = AutoTokenizer.from_pretrained(model_path)\n",
    "\n",
    "\n",
    "model = AutoModelForCausalLM.from_pretrained(model_path).to(device)\n",
    "\n",
    "torch.set_float32_matmul_precision('high')\n",
    "\n",
    "\n",
    "class StopOnSemicolon(StoppingCriteria):\n",
    "    def __call__(self, input_ids, scores, **kwargs):\n",
    "        decoded = tokenizer.decode(input_ids[0], skip_special_tokens=True)\n",
    "        return \";\" in decoded\n",
    "\n",
    "stopping_criteria = StoppingCriteriaList([StopOnSemicolon()])\n",
    "\n",
    "def nl_to_sql(request: str) -> str:\n",
    "    \"\"\"\n",
    "    Generate a SQL query from a natural language request using the fine-tuned model.\n",
    "    \"\"\"\n",
    "    prompt = f'''You are a SQL generator for a ClickHouse database.\n",
    "    Given a user request in natural language, you will respond with exactly one valid SQL query, nothing else, no explanations.\n",
    "    Respond with exactly ONE SQL query, do not repeat it.\n",
    "    End your response immediately after the first semicolon.\n",
    "    Use proper table and column names from the schema.\n",
    "    Handle aggregations, and filtering appropriately.\n",
    "    User natural language questions will be in spanish.\n",
    "    \n",
    "    Schema info: {schema_info}\n",
    "\n",
    "    Values for entidad_federativa column in superficie_bd.superficie_forestal, these names don't have accent marks: {entidad_federativa}\n",
    "\n",
    "    México, Estado de México, Ciudad de México are different concepts.\n",
    "    Superficie is the same as superficie total.\n",
    "    Área forestal, área de bosque, otras áreas arboladas, otras áreas forestales are diffent concepts.\n",
    "\n",
    "    Examples:\n",
    "    Q: \"¿Cuál es la entidad federativa con mayor superficie forestal?\"\n",
    "    A: SELECT\n",
    "      entidad_federativa,\n",
    "      superficie_forestal\n",
    "    FROM \n",
    "      superficie_bd.superficie_forestal\n",
    "    ORDER BY\n",
    "      superficie_forestal\n",
    "    DESC\n",
    "    LIMIT 1\n",
    "\n",
    "\n",
    "\n",
    "    User request: {request}\n",
    "    \n",
    "    SQL:'''\n",
    "    inputs = tokenizer(prompt, return_tensors=\"pt\").to(device)\n",
    "\n",
    "    with torch.no_grad():\n",
    "        output_ids = model.generate(\n",
    "            **inputs,\n",
    "            max_new_tokens=128,\n",
    "            do_sample=False,\n",
    "            pad_token_id=tokenizer.eos_token_id,\n",
    "            stopping_criteria=stopping_criteria\n",
    "        )\n",
    "\n",
    "    full_output = tokenizer.decode(output_ids[0], skip_special_tokens=True)\n",
    "    sql = full_output.replace(prompt, \"\").strip()\n",
    "    return sql"
   ]
  },
  {
   "cell_type": "code",
   "execution_count": 24,
   "id": "4ba1f134",
   "metadata": {},
   "outputs": [
    {
     "name": "stderr",
     "output_type": "stream",
     "text": [
      "The following generation flags are not valid and may be ignored: ['top_p', 'top_k']. Set `TRANSFORMERS_VERBOSITY=info` for more details.\n"
     ]
    },
    {
     "name": "stdout",
     "output_type": "stream",
     "text": [
      "Generated SQL: SELECT\n",
      "      SUM(superficie_forestal)\n",
      "    FROM \n",
      "      superficie_bd.superficie_forestal;\n"
     ]
    }
   ],
   "source": [
    "sql = nl_to_sql(\"Dame la suma de la superficie forestal\")\n",
    "print(\"Generated SQL:\", sql)"
   ]
  },
  {
   "cell_type": "code",
   "execution_count": 25,
   "id": "f9ebb0c9",
   "metadata": {},
   "outputs": [
    {
     "name": "stdout",
     "output_type": "stream",
     "text": [
      "('SUM(superficie_forestal)',)\n"
     ]
    },
    {
     "data": {
      "text/plain": [
       "[(138695229.78034,)]"
      ]
     },
     "execution_count": 25,
     "metadata": {},
     "output_type": "execute_result"
    }
   ],
   "source": [
    "result = client.query(sql)\n",
    "\n",
    "print(result.column_names)\n",
    "result.result_rows"
   ]
  },
  {
   "cell_type": "code",
   "execution_count": 36,
   "id": "ebea08ba",
   "metadata": {},
   "outputs": [
    {
     "name": "stderr",
     "output_type": "stream",
     "text": [
      "The following generation flags are not valid and may be ignored: ['top_p', 'top_k']. Set `TRANSFORMERS_VERBOSITY=info` for more details.\n"
     ]
    },
    {
     "name": "stdout",
     "output_type": "stream",
     "text": [
      "Generated SQL: SELECT\n",
      "      entidad_federativa,\n",
      "      superficie_no_forestal\n",
      "    FROM \n",
      "      superficie_bd.superficie_forestal;\n"
     ]
    }
   ],
   "source": [
    "sql = nl_to_sql(\"Dame la entidad federativa y la superficie no forestal\")\n",
    "print(\"Generated SQL:\", sql)"
   ]
  },
  {
   "cell_type": "code",
   "execution_count": 37,
   "id": "13a6b600",
   "metadata": {},
   "outputs": [
    {
     "name": "stdout",
     "output_type": "stream",
     "text": [
      "('entidad_federativa', 'superficie_no_forestal')\n"
     ]
    },
    {
     "data": {
      "text/plain": [
       "[('Aguascalientes', 302000.0238),\n",
       " ('Baja California Norte', 1014011.539),\n",
       " ('Baja California Sur', 643093.549),\n",
       " ('Campeche', 1421252.35),\n",
       " ('Chiapas', 3745862.899),\n",
       " ('Chihuahua', 3134481.14),\n",
       " ('Ciudad de Mexico', 104798.0108),\n",
       " ('Coahuila', 1419361.19),\n",
       " ('Colima', 253809.9829),\n",
       " ('Durango', 1719431.78),\n",
       " ('Estado de Mexico', 1447249.881),\n",
       " ('Guanajuato', 1798867.707),\n",
       " ('Guerrero', 2020835.556),\n",
       " ('Hidalgo', 1120311.809),\n",
       " ('Jalisco', 3313903.235),\n",
       " ('Michoacan', 2341546.799),\n",
       " ('Morelos', 304197.0317),\n",
       " ('Nayarit', 892058.349),\n",
       " ('Nuevo Leon', 2220215.189),\n",
       " ('Oaxaca', 2683852.004),\n",
       " ('Puebla', 1858144.56),\n",
       " ('Queretaro', 472810.9523),\n",
       " ('Quintana Roo', 459235.702),\n",
       " ('San Luis Potosi', 1866171.886),\n",
       " ('Sinaloa', 2534255.666),\n",
       " ('Sonora', 3118964.68),\n",
       " ('Tabasco', 1656378.312),\n",
       " ('Tamaulipas', 4204340.169),\n",
       " ('Tlaxcala', 325534.9012),\n",
       " ('Veracruz', 5712305.168),\n",
       " ('Yucatan', 1259353.517),\n",
       " ('Zacatecas', 2303999.876)]"
      ]
     },
     "execution_count": 37,
     "metadata": {},
     "output_type": "execute_result"
    }
   ],
   "source": [
    "result = client.query(sql)\n",
    "\n",
    "print(result.column_names)\n",
    "result.result_rows"
   ]
  },
  {
   "cell_type": "code",
   "execution_count": 29,
   "id": "9be6552d",
   "metadata": {},
   "outputs": [
    {
     "name": "stderr",
     "output_type": "stream",
     "text": [
      "The following generation flags are not valid and may be ignored: ['top_p', 'top_k']. Set `TRANSFORMERS_VERBOSITY=info` for more details.\n"
     ]
    },
    {
     "name": "stdout",
     "output_type": "stream",
     "text": [
      "Generated SQL: SELECT\n",
      "      superficie_forestal/poblacion\n",
      "    FROM \n",
      "      superficie_bd.superficie_forestal\n",
      "    WHERE \n",
      "      entidad_federativa = 'Ciudad de Mexico';\n"
     ]
    }
   ],
   "source": [
    "sql = nl_to_sql(\"Dame el índice de superficie forestal entre población en la ciudad de México\")\n",
    "print(\"Generated SQL:\", sql)"
   ]
  },
  {
   "cell_type": "code",
   "execution_count": 30,
   "id": "55ed4dc1",
   "metadata": {},
   "outputs": [
    {
     "name": "stdout",
     "output_type": "stream",
     "text": [
      "('divide(superficie_forestal, poblacion)',)\n"
     ]
    },
    {
     "data": {
      "text/plain": [
       "[(0.004855097628172332,)]"
      ]
     },
     "execution_count": 30,
     "metadata": {},
     "output_type": "execute_result"
    }
   ],
   "source": [
    "result = client.query(sql)\n",
    "\n",
    "print(result.column_names)\n",
    "result.result_rows"
   ]
  }
 ],
 "metadata": {
  "kernelspec": {
   "display_name": "base",
   "language": "python",
   "name": "python3"
  },
  "language_info": {
   "codemirror_mode": {
    "name": "ipython",
    "version": 3
   },
   "file_extension": ".py",
   "mimetype": "text/x-python",
   "name": "python",
   "nbconvert_exporter": "python",
   "pygments_lexer": "ipython3",
   "version": "3.11.13"
  }
 },
 "nbformat": 4,
 "nbformat_minor": 5
}
