{
 "cells": [
  {
   "cell_type": "markdown",
   "id": "fd8f5c98",
   "metadata": {},
   "source": [
    "# Mexican forest cover Chatbot fine-tuning.\n",
    "\n",
    "In this notebook, we will see how to fine-tune a custom chatbot (based on a Phi-4-mini model) using a hand-made training dataset.\n",
    "\n",
    "This is a prompt-completion fine-tuning intended to generate SQL querys\n",
    "\n",
    "Prerequisite: Create HuggingFace token with permission access to `defog/sqlcoder-7b-2`."
   ]
  },
  {
   "cell_type": "code",
   "execution_count": 1,
   "id": "ec77f9a3",
   "metadata": {},
   "outputs": [],
   "source": [
    "from datasets import Dataset, DatasetDict\n",
    "import pandas as pd\n",
    "from huggingface_hub import login\n",
    "import torch\n",
    "from transformers import AutoTokenizer, AutoModelForCausalLM, BitsAndBytesConfig\n",
    "import transformers\n",
    "from trl import SFTTrainer\n",
    "from peft import LoraConfig, AutoPeftModelForCausalLM"
   ]
  },
  {
   "cell_type": "markdown",
   "id": "829aeed2",
   "metadata": {},
   "source": [
    "Load the custom training dataset, available in this same github project."
   ]
  },
  {
   "cell_type": "code",
   "execution_count": 2,
   "id": "5e6dbcde",
   "metadata": {},
   "outputs": [],
   "source": [
    "excel_file_path = '/usr/workspace/media/training_prompts.xlsx'\n",
    "df = pd.read_excel(excel_file_path)\n",
    "hf_dataset = Dataset.from_pandas(df)\n",
    "single_dataset_dict = DatasetDict({'train': hf_dataset})"
   ]
  },
  {
   "cell_type": "code",
   "execution_count": 3,
   "id": "e7a2be47",
   "metadata": {},
   "outputs": [
    {
     "data": {
      "text/plain": [
       "{'prompt': 'User request: ¿Cuál es el estado con mayor superficie cubierta por bosque?\\n\\nSQL:',\n",
       " 'completion': 'SELECT\\n  entidad_federativa,\\n  superficie_cubierta_por_bosque\\nFROM \\n  superficie_bd.superficie_forestal\\nORDER BY\\n  superficie_cubierta_por_bosque\\nDESC\\nLIMIT 1;',\n",
       " 'system_prompt': 'You are a SQL generator for ClickHouse database. Given a user request in natural language, you will respond with exactly one valid ClikHouse SQL query, nothing else. Use proper table and column names from the schema. Handle aggregations and filtering appropriately.',\n",
       " '__index_level_0__': 0}"
      ]
     },
     "execution_count": 3,
     "metadata": {},
     "output_type": "execute_result"
    }
   ],
   "source": [
    "single_dataset_dict['train'][0]"
   ]
  },
  {
   "cell_type": "markdown",
   "id": "8ae49310",
   "metadata": {},
   "source": [
    "Download LLM from HuggingFace and set up tokenizer. We'll use a 4bit quantization as I only have 8GB of Vram available."
   ]
  },
  {
   "cell_type": "code",
   "execution_count": null,
   "id": "95e3aa8f",
   "metadata": {},
   "outputs": [
    {
     "data": {
      "application/vnd.jupyter.widget-view+json": {
       "model_id": "3a23abd0902e4ef1bfeac3881d244dc5",
       "version_major": 2,
       "version_minor": 0
      },
      "text/plain": [
       "Loading checkpoint shards:   0%|          | 0/3 [00:00<?, ?it/s]"
      ]
     },
     "metadata": {},
     "output_type": "display_data"
    }
   ],
   "source": [
    "# Hugging Face login\n",
    "my_token = \"hf_xxxxxxx\"\n",
    "login(token=my_token)\n",
    "\n",
    "\n",
    "# -------------------------------\n",
    "# Load defog/sqlcoder-7b-2\n",
    "# -------------------------------\n",
    "\n",
    "model_id = 'defog/sqlcoder-7b-2'\n",
    "tokenizer = AutoTokenizer.from_pretrained(model_id, token=my_token)\n",
    "\n",
    "bnb_config = BitsAndBytesConfig(\n",
    "    load_in_4bit=True,\n",
    "    bnb_4bit_compute_dtype=torch.bfloat16,\n",
    "    bnb_4bit_quant_type=\"nf4\",\n",
    "    bnb_4bit_use_double_quant=True,\n",
    ")\n",
    "\n",
    "model = AutoModelForCausalLM.from_pretrained(\n",
    "    model_id,\n",
    "    quantization_config=bnb_config,\n",
    "    device_map=\"auto\",\n",
    "    token=my_token\n",
    ")\n",
    "\n",
    "\n",
    "# Make sure pad_token exists\n",
    "if tokenizer.pad_token is None:\n",
    "    tokenizer.pad_token = tokenizer.eos_token"
   ]
  },
  {
   "cell_type": "markdown",
   "id": "c904a2eb",
   "metadata": {},
   "source": [
    "Set up LoRA configurations, datasets and SFT (Supervised Fine-Tuning) training procedure."
   ]
  },
  {
   "cell_type": "code",
   "execution_count": 5,
   "id": "9ec438a3",
   "metadata": {},
   "outputs": [],
   "source": [
    "# -------------------------------\n",
    "# LoRA config\n",
    "# -------------------------------\n",
    "\n",
    "lora_config = LoraConfig(\n",
    "    r=8,\n",
    "    lora_alpha=16,\n",
    "    lora_dropout=0.05,\n",
    "    target_modules=[\"q_proj\", \"k_proj\", \"v_proj\", \"o_proj\"],\n",
    "    task_type=\"CAUSAL_LM\",\n",
    ")"
   ]
  },
  {
   "cell_type": "code",
   "execution_count": 6,
   "id": "3b42d8ac",
   "metadata": {},
   "outputs": [
    {
     "data": {
      "application/vnd.jupyter.widget-view+json": {
       "model_id": "83ac975cdba14c0c8caa1c58c3d38e3a",
       "version_major": 2,
       "version_minor": 0
      },
      "text/plain": [
       "Map:   0%|          | 0/202 [00:00<?, ? examples/s]"
      ]
     },
     "metadata": {},
     "output_type": "display_data"
    }
   ],
   "source": [
    "# ----------------------------------------\n",
    "# Tokenization function (completion mode)\n",
    "# ----------------------------------------\n",
    "\n",
    "def tokenize_function(examples):\n",
    "    prompts = examples[\"prompt\"]\n",
    "    completions = examples[\"completion\"]\n",
    "    texts = []\n",
    "    for prompt, completion in zip(prompts, completions):\n",
    "        # Concatenate prompt + completion\n",
    "        text = prompt.strip() + \" \" + completion.strip()\n",
    "        texts.append(text)\n",
    "    return tokenizer(texts, truncation=True, padding=\"max_length\", max_length=512)\n",
    "\n",
    "\n",
    "single_dataset_dict = single_dataset_dict.map(tokenize_function, batched=True)\n"
   ]
  },
  {
   "cell_type": "markdown",
   "id": "705ef9b8",
   "metadata": {},
   "source": [
    "Start the fine-tuning with 150 training step, which will take ~2.5 hours on a GTX 4060 Laptop GPU with 8gb VRAM."
   ]
  },
  {
   "cell_type": "code",
   "execution_count": 7,
   "id": "177e1b74",
   "metadata": {},
   "outputs": [
    {
     "data": {
      "application/vnd.jupyter.widget-view+json": {
       "model_id": "b0ae89bbd785439f9434dbdbc4801706",
       "version_major": 2,
       "version_minor": 0
      },
      "text/plain": [
       "Truncating train dataset:   0%|          | 0/202 [00:00<?, ? examples/s]"
      ]
     },
     "metadata": {},
     "output_type": "display_data"
    },
    {
     "data": {
      "text/html": [
       "\n",
       "    <div>\n",
       "      \n",
       "      <progress value='150' max='150' style='width:300px; height:20px; vertical-align: middle;'></progress>\n",
       "      [150/150 2:43:51, Epoch 2/3]\n",
       "    </div>\n",
       "    <table border=\"1\" class=\"dataframe\">\n",
       "  <thead>\n",
       " <tr style=\"text-align: left;\">\n",
       "      <th>Step</th>\n",
       "      <th>Training Loss</th>\n",
       "    </tr>\n",
       "  </thead>\n",
       "  <tbody>\n",
       "    <tr>\n",
       "      <td>1</td>\n",
       "      <td>11.375000</td>\n",
       "    </tr>\n",
       "    <tr>\n",
       "      <td>2</td>\n",
       "      <td>11.223800</td>\n",
       "    </tr>\n",
       "    <tr>\n",
       "      <td>3</td>\n",
       "      <td>11.233600</td>\n",
       "    </tr>\n",
       "    <tr>\n",
       "      <td>4</td>\n",
       "      <td>8.461800</td>\n",
       "    </tr>\n",
       "    <tr>\n",
       "      <td>5</td>\n",
       "      <td>4.546200</td>\n",
       "    </tr>\n",
       "    <tr>\n",
       "      <td>6</td>\n",
       "      <td>2.797700</td>\n",
       "    </tr>\n",
       "    <tr>\n",
       "      <td>7</td>\n",
       "      <td>2.790500</td>\n",
       "    </tr>\n",
       "    <tr>\n",
       "      <td>8</td>\n",
       "      <td>2.485200</td>\n",
       "    </tr>\n",
       "    <tr>\n",
       "      <td>9</td>\n",
       "      <td>1.731100</td>\n",
       "    </tr>\n",
       "    <tr>\n",
       "      <td>10</td>\n",
       "      <td>2.086800</td>\n",
       "    </tr>\n",
       "    <tr>\n",
       "      <td>11</td>\n",
       "      <td>1.897900</td>\n",
       "    </tr>\n",
       "    <tr>\n",
       "      <td>12</td>\n",
       "      <td>1.612200</td>\n",
       "    </tr>\n",
       "    <tr>\n",
       "      <td>13</td>\n",
       "      <td>1.955300</td>\n",
       "    </tr>\n",
       "    <tr>\n",
       "      <td>14</td>\n",
       "      <td>1.852300</td>\n",
       "    </tr>\n",
       "    <tr>\n",
       "      <td>15</td>\n",
       "      <td>1.470200</td>\n",
       "    </tr>\n",
       "    <tr>\n",
       "      <td>16</td>\n",
       "      <td>1.643100</td>\n",
       "    </tr>\n",
       "    <tr>\n",
       "      <td>17</td>\n",
       "      <td>1.734000</td>\n",
       "    </tr>\n",
       "    <tr>\n",
       "      <td>18</td>\n",
       "      <td>1.692400</td>\n",
       "    </tr>\n",
       "    <tr>\n",
       "      <td>19</td>\n",
       "      <td>1.408800</td>\n",
       "    </tr>\n",
       "    <tr>\n",
       "      <td>20</td>\n",
       "      <td>1.763600</td>\n",
       "    </tr>\n",
       "    <tr>\n",
       "      <td>21</td>\n",
       "      <td>1.542200</td>\n",
       "    </tr>\n",
       "    <tr>\n",
       "      <td>22</td>\n",
       "      <td>1.873500</td>\n",
       "    </tr>\n",
       "    <tr>\n",
       "      <td>23</td>\n",
       "      <td>1.589700</td>\n",
       "    </tr>\n",
       "    <tr>\n",
       "      <td>24</td>\n",
       "      <td>1.441900</td>\n",
       "    </tr>\n",
       "    <tr>\n",
       "      <td>25</td>\n",
       "      <td>1.399400</td>\n",
       "    </tr>\n",
       "    <tr>\n",
       "      <td>26</td>\n",
       "      <td>1.515000</td>\n",
       "    </tr>\n",
       "    <tr>\n",
       "      <td>27</td>\n",
       "      <td>1.560700</td>\n",
       "    </tr>\n",
       "    <tr>\n",
       "      <td>28</td>\n",
       "      <td>1.235700</td>\n",
       "    </tr>\n",
       "    <tr>\n",
       "      <td>29</td>\n",
       "      <td>1.210500</td>\n",
       "    </tr>\n",
       "    <tr>\n",
       "      <td>30</td>\n",
       "      <td>1.453900</td>\n",
       "    </tr>\n",
       "    <tr>\n",
       "      <td>31</td>\n",
       "      <td>1.423800</td>\n",
       "    </tr>\n",
       "    <tr>\n",
       "      <td>32</td>\n",
       "      <td>1.154300</td>\n",
       "    </tr>\n",
       "    <tr>\n",
       "      <td>33</td>\n",
       "      <td>1.282300</td>\n",
       "    </tr>\n",
       "    <tr>\n",
       "      <td>34</td>\n",
       "      <td>1.180500</td>\n",
       "    </tr>\n",
       "    <tr>\n",
       "      <td>35</td>\n",
       "      <td>1.289500</td>\n",
       "    </tr>\n",
       "    <tr>\n",
       "      <td>36</td>\n",
       "      <td>1.038100</td>\n",
       "    </tr>\n",
       "    <tr>\n",
       "      <td>37</td>\n",
       "      <td>1.283600</td>\n",
       "    </tr>\n",
       "    <tr>\n",
       "      <td>38</td>\n",
       "      <td>1.071400</td>\n",
       "    </tr>\n",
       "    <tr>\n",
       "      <td>39</td>\n",
       "      <td>1.034500</td>\n",
       "    </tr>\n",
       "    <tr>\n",
       "      <td>40</td>\n",
       "      <td>0.950200</td>\n",
       "    </tr>\n",
       "    <tr>\n",
       "      <td>41</td>\n",
       "      <td>0.844100</td>\n",
       "    </tr>\n",
       "    <tr>\n",
       "      <td>42</td>\n",
       "      <td>1.096200</td>\n",
       "    </tr>\n",
       "    <tr>\n",
       "      <td>43</td>\n",
       "      <td>0.920300</td>\n",
       "    </tr>\n",
       "    <tr>\n",
       "      <td>44</td>\n",
       "      <td>1.048500</td>\n",
       "    </tr>\n",
       "    <tr>\n",
       "      <td>45</td>\n",
       "      <td>0.846800</td>\n",
       "    </tr>\n",
       "    <tr>\n",
       "      <td>46</td>\n",
       "      <td>1.070400</td>\n",
       "    </tr>\n",
       "    <tr>\n",
       "      <td>47</td>\n",
       "      <td>0.971200</td>\n",
       "    </tr>\n",
       "    <tr>\n",
       "      <td>48</td>\n",
       "      <td>1.033200</td>\n",
       "    </tr>\n",
       "    <tr>\n",
       "      <td>49</td>\n",
       "      <td>1.130600</td>\n",
       "    </tr>\n",
       "    <tr>\n",
       "      <td>50</td>\n",
       "      <td>0.887900</td>\n",
       "    </tr>\n",
       "    <tr>\n",
       "      <td>51</td>\n",
       "      <td>0.877600</td>\n",
       "    </tr>\n",
       "    <tr>\n",
       "      <td>52</td>\n",
       "      <td>1.016200</td>\n",
       "    </tr>\n",
       "    <tr>\n",
       "      <td>53</td>\n",
       "      <td>0.807900</td>\n",
       "    </tr>\n",
       "    <tr>\n",
       "      <td>54</td>\n",
       "      <td>0.928500</td>\n",
       "    </tr>\n",
       "    <tr>\n",
       "      <td>55</td>\n",
       "      <td>0.815600</td>\n",
       "    </tr>\n",
       "    <tr>\n",
       "      <td>56</td>\n",
       "      <td>0.992100</td>\n",
       "    </tr>\n",
       "    <tr>\n",
       "      <td>57</td>\n",
       "      <td>0.819900</td>\n",
       "    </tr>\n",
       "    <tr>\n",
       "      <td>58</td>\n",
       "      <td>0.989000</td>\n",
       "    </tr>\n",
       "    <tr>\n",
       "      <td>59</td>\n",
       "      <td>0.753000</td>\n",
       "    </tr>\n",
       "    <tr>\n",
       "      <td>60</td>\n",
       "      <td>0.913700</td>\n",
       "    </tr>\n",
       "    <tr>\n",
       "      <td>61</td>\n",
       "      <td>0.898700</td>\n",
       "    </tr>\n",
       "    <tr>\n",
       "      <td>62</td>\n",
       "      <td>0.637500</td>\n",
       "    </tr>\n",
       "    <tr>\n",
       "      <td>63</td>\n",
       "      <td>0.836400</td>\n",
       "    </tr>\n",
       "    <tr>\n",
       "      <td>64</td>\n",
       "      <td>1.075200</td>\n",
       "    </tr>\n",
       "    <tr>\n",
       "      <td>65</td>\n",
       "      <td>0.944200</td>\n",
       "    </tr>\n",
       "    <tr>\n",
       "      <td>66</td>\n",
       "      <td>0.692900</td>\n",
       "    </tr>\n",
       "    <tr>\n",
       "      <td>67</td>\n",
       "      <td>0.595200</td>\n",
       "    </tr>\n",
       "    <tr>\n",
       "      <td>68</td>\n",
       "      <td>0.942600</td>\n",
       "    </tr>\n",
       "    <tr>\n",
       "      <td>69</td>\n",
       "      <td>0.652400</td>\n",
       "    </tr>\n",
       "    <tr>\n",
       "      <td>70</td>\n",
       "      <td>0.701300</td>\n",
       "    </tr>\n",
       "    <tr>\n",
       "      <td>71</td>\n",
       "      <td>0.563100</td>\n",
       "    </tr>\n",
       "    <tr>\n",
       "      <td>72</td>\n",
       "      <td>0.562700</td>\n",
       "    </tr>\n",
       "    <tr>\n",
       "      <td>73</td>\n",
       "      <td>0.756100</td>\n",
       "    </tr>\n",
       "    <tr>\n",
       "      <td>74</td>\n",
       "      <td>0.857200</td>\n",
       "    </tr>\n",
       "    <tr>\n",
       "      <td>75</td>\n",
       "      <td>0.514100</td>\n",
       "    </tr>\n",
       "    <tr>\n",
       "      <td>76</td>\n",
       "      <td>0.562400</td>\n",
       "    </tr>\n",
       "    <tr>\n",
       "      <td>77</td>\n",
       "      <td>0.777300</td>\n",
       "    </tr>\n",
       "    <tr>\n",
       "      <td>78</td>\n",
       "      <td>0.704300</td>\n",
       "    </tr>\n",
       "    <tr>\n",
       "      <td>79</td>\n",
       "      <td>0.746200</td>\n",
       "    </tr>\n",
       "    <tr>\n",
       "      <td>80</td>\n",
       "      <td>0.901600</td>\n",
       "    </tr>\n",
       "    <tr>\n",
       "      <td>81</td>\n",
       "      <td>0.651800</td>\n",
       "    </tr>\n",
       "    <tr>\n",
       "      <td>82</td>\n",
       "      <td>0.679700</td>\n",
       "    </tr>\n",
       "    <tr>\n",
       "      <td>83</td>\n",
       "      <td>0.936300</td>\n",
       "    </tr>\n",
       "    <tr>\n",
       "      <td>84</td>\n",
       "      <td>0.741200</td>\n",
       "    </tr>\n",
       "    <tr>\n",
       "      <td>85</td>\n",
       "      <td>0.729400</td>\n",
       "    </tr>\n",
       "    <tr>\n",
       "      <td>86</td>\n",
       "      <td>0.843900</td>\n",
       "    </tr>\n",
       "    <tr>\n",
       "      <td>87</td>\n",
       "      <td>0.759600</td>\n",
       "    </tr>\n",
       "    <tr>\n",
       "      <td>88</td>\n",
       "      <td>0.730200</td>\n",
       "    </tr>\n",
       "    <tr>\n",
       "      <td>89</td>\n",
       "      <td>0.713100</td>\n",
       "    </tr>\n",
       "    <tr>\n",
       "      <td>90</td>\n",
       "      <td>0.952400</td>\n",
       "    </tr>\n",
       "    <tr>\n",
       "      <td>91</td>\n",
       "      <td>0.736000</td>\n",
       "    </tr>\n",
       "    <tr>\n",
       "      <td>92</td>\n",
       "      <td>0.764600</td>\n",
       "    </tr>\n",
       "    <tr>\n",
       "      <td>93</td>\n",
       "      <td>0.603700</td>\n",
       "    </tr>\n",
       "    <tr>\n",
       "      <td>94</td>\n",
       "      <td>0.596900</td>\n",
       "    </tr>\n",
       "    <tr>\n",
       "      <td>95</td>\n",
       "      <td>0.741700</td>\n",
       "    </tr>\n",
       "    <tr>\n",
       "      <td>96</td>\n",
       "      <td>0.811700</td>\n",
       "    </tr>\n",
       "    <tr>\n",
       "      <td>97</td>\n",
       "      <td>0.839600</td>\n",
       "    </tr>\n",
       "    <tr>\n",
       "      <td>98</td>\n",
       "      <td>0.668000</td>\n",
       "    </tr>\n",
       "    <tr>\n",
       "      <td>99</td>\n",
       "      <td>0.704600</td>\n",
       "    </tr>\n",
       "    <tr>\n",
       "      <td>100</td>\n",
       "      <td>0.638500</td>\n",
       "    </tr>\n",
       "    <tr>\n",
       "      <td>101</td>\n",
       "      <td>0.733900</td>\n",
       "    </tr>\n",
       "    <tr>\n",
       "      <td>102</td>\n",
       "      <td>0.556200</td>\n",
       "    </tr>\n",
       "    <tr>\n",
       "      <td>103</td>\n",
       "      <td>0.669200</td>\n",
       "    </tr>\n",
       "    <tr>\n",
       "      <td>104</td>\n",
       "      <td>0.606000</td>\n",
       "    </tr>\n",
       "    <tr>\n",
       "      <td>105</td>\n",
       "      <td>0.699200</td>\n",
       "    </tr>\n",
       "    <tr>\n",
       "      <td>106</td>\n",
       "      <td>0.744200</td>\n",
       "    </tr>\n",
       "    <tr>\n",
       "      <td>107</td>\n",
       "      <td>0.657200</td>\n",
       "    </tr>\n",
       "    <tr>\n",
       "      <td>108</td>\n",
       "      <td>0.647700</td>\n",
       "    </tr>\n",
       "    <tr>\n",
       "      <td>109</td>\n",
       "      <td>0.524700</td>\n",
       "    </tr>\n",
       "    <tr>\n",
       "      <td>110</td>\n",
       "      <td>0.630700</td>\n",
       "    </tr>\n",
       "    <tr>\n",
       "      <td>111</td>\n",
       "      <td>0.608700</td>\n",
       "    </tr>\n",
       "    <tr>\n",
       "      <td>112</td>\n",
       "      <td>0.697900</td>\n",
       "    </tr>\n",
       "    <tr>\n",
       "      <td>113</td>\n",
       "      <td>0.731800</td>\n",
       "    </tr>\n",
       "    <tr>\n",
       "      <td>114</td>\n",
       "      <td>0.672400</td>\n",
       "    </tr>\n",
       "    <tr>\n",
       "      <td>115</td>\n",
       "      <td>0.825900</td>\n",
       "    </tr>\n",
       "    <tr>\n",
       "      <td>116</td>\n",
       "      <td>0.660300</td>\n",
       "    </tr>\n",
       "    <tr>\n",
       "      <td>117</td>\n",
       "      <td>0.772000</td>\n",
       "    </tr>\n",
       "    <tr>\n",
       "      <td>118</td>\n",
       "      <td>0.700800</td>\n",
       "    </tr>\n",
       "    <tr>\n",
       "      <td>119</td>\n",
       "      <td>0.725200</td>\n",
       "    </tr>\n",
       "    <tr>\n",
       "      <td>120</td>\n",
       "      <td>0.651200</td>\n",
       "    </tr>\n",
       "    <tr>\n",
       "      <td>121</td>\n",
       "      <td>0.688600</td>\n",
       "    </tr>\n",
       "    <tr>\n",
       "      <td>122</td>\n",
       "      <td>0.560400</td>\n",
       "    </tr>\n",
       "    <tr>\n",
       "      <td>123</td>\n",
       "      <td>0.672700</td>\n",
       "    </tr>\n",
       "    <tr>\n",
       "      <td>124</td>\n",
       "      <td>0.605200</td>\n",
       "    </tr>\n",
       "    <tr>\n",
       "      <td>125</td>\n",
       "      <td>0.600300</td>\n",
       "    </tr>\n",
       "    <tr>\n",
       "      <td>126</td>\n",
       "      <td>0.672100</td>\n",
       "    </tr>\n",
       "    <tr>\n",
       "      <td>127</td>\n",
       "      <td>0.536900</td>\n",
       "    </tr>\n",
       "    <tr>\n",
       "      <td>128</td>\n",
       "      <td>0.635000</td>\n",
       "    </tr>\n",
       "    <tr>\n",
       "      <td>129</td>\n",
       "      <td>0.495600</td>\n",
       "    </tr>\n",
       "    <tr>\n",
       "      <td>130</td>\n",
       "      <td>0.651900</td>\n",
       "    </tr>\n",
       "    <tr>\n",
       "      <td>131</td>\n",
       "      <td>0.668300</td>\n",
       "    </tr>\n",
       "    <tr>\n",
       "      <td>132</td>\n",
       "      <td>0.780100</td>\n",
       "    </tr>\n",
       "    <tr>\n",
       "      <td>133</td>\n",
       "      <td>0.836900</td>\n",
       "    </tr>\n",
       "    <tr>\n",
       "      <td>134</td>\n",
       "      <td>0.654200</td>\n",
       "    </tr>\n",
       "    <tr>\n",
       "      <td>135</td>\n",
       "      <td>0.810800</td>\n",
       "    </tr>\n",
       "    <tr>\n",
       "      <td>136</td>\n",
       "      <td>0.662900</td>\n",
       "    </tr>\n",
       "    <tr>\n",
       "      <td>137</td>\n",
       "      <td>0.788400</td>\n",
       "    </tr>\n",
       "    <tr>\n",
       "      <td>138</td>\n",
       "      <td>0.584200</td>\n",
       "    </tr>\n",
       "    <tr>\n",
       "      <td>139</td>\n",
       "      <td>0.597500</td>\n",
       "    </tr>\n",
       "    <tr>\n",
       "      <td>140</td>\n",
       "      <td>0.623800</td>\n",
       "    </tr>\n",
       "    <tr>\n",
       "      <td>141</td>\n",
       "      <td>0.718100</td>\n",
       "    </tr>\n",
       "    <tr>\n",
       "      <td>142</td>\n",
       "      <td>0.473800</td>\n",
       "    </tr>\n",
       "    <tr>\n",
       "      <td>143</td>\n",
       "      <td>0.625100</td>\n",
       "    </tr>\n",
       "    <tr>\n",
       "      <td>144</td>\n",
       "      <td>0.567600</td>\n",
       "    </tr>\n",
       "    <tr>\n",
       "      <td>145</td>\n",
       "      <td>0.769300</td>\n",
       "    </tr>\n",
       "    <tr>\n",
       "      <td>146</td>\n",
       "      <td>0.882900</td>\n",
       "    </tr>\n",
       "    <tr>\n",
       "      <td>147</td>\n",
       "      <td>0.498500</td>\n",
       "    </tr>\n",
       "    <tr>\n",
       "      <td>148</td>\n",
       "      <td>0.665000</td>\n",
       "    </tr>\n",
       "    <tr>\n",
       "      <td>149</td>\n",
       "      <td>0.626300</td>\n",
       "    </tr>\n",
       "    <tr>\n",
       "      <td>150</td>\n",
       "      <td>0.651700</td>\n",
       "    </tr>\n",
       "  </tbody>\n",
       "</table><p>"
      ],
      "text/plain": [
       "<IPython.core.display.HTML object>"
      ]
     },
     "metadata": {},
     "output_type": "display_data"
    },
    {
     "data": {
      "text/plain": [
       "TrainOutput(global_step=150, training_loss=1.2262546783685684, metrics={'train_runtime': 9901.5406, 'train_samples_per_second': 0.061, 'train_steps_per_second': 0.015, 'total_flos': 1.211294350835712e+16, 'train_loss': 1.2262546783685684})"
      ]
     },
     "execution_count": 7,
     "metadata": {},
     "output_type": "execute_result"
    }
   ],
   "source": [
    "# -------------------------------\n",
    "# Trainer\n",
    "# -------------------------------\n",
    "\n",
    "trainer = SFTTrainer(\n",
    "    model=model,\n",
    "    processing_class=tokenizer,\n",
    "    train_dataset=single_dataset_dict['train'],\n",
    "    args=transformers.TrainingArguments(\n",
    "        per_device_train_batch_size=1,\n",
    "        gradient_accumulation_steps=4,\n",
    "        warmup_steps=2,\n",
    "        max_steps=150,\n",
    "        learning_rate=2e-4,\n",
    "        bf16=True,\n",
    "        logging_steps=1,\n",
    "        output_dir=\"outputs\",\n",
    "        optim=\"paged_adamw_8bit\",\n",
    "        report_to=\"none\",\n",
    "    ),\n",
    "    peft_config=lora_config,\n",
    ")\n",
    "\n",
    "trainer.train()"
   ]
  },
  {
   "cell_type": "code",
   "execution_count": 8,
   "id": "eb5b8c5f",
   "metadata": {},
   "outputs": [
    {
     "data": {
      "text/plain": [
       "('defog_sqlcoder_7b_2_f4bit/tokenizer_config.json',\n",
       " 'defog_sqlcoder_7b_2_f4bit/special_tokens_map.json',\n",
       " 'defog_sqlcoder_7b_2_f4bit/tokenizer.json')"
      ]
     },
     "execution_count": 8,
     "metadata": {},
     "output_type": "execute_result"
    }
   ],
   "source": [
    "# Save only the LoRA adapter + tokenizer\n",
    "trainer.model.save_pretrained(\"defog_sqlcoder_7b_2_f4bit\")\n",
    "tokenizer.save_pretrained(\"defog_sqlcoder_7b_2_f4bit\")"
   ]
  },
  {
   "cell_type": "markdown",
   "id": "4a7cb728",
   "metadata": {},
   "source": [
    "### Test pipeline"
   ]
  },
  {
   "cell_type": "code",
   "execution_count": 1,
   "id": "1f815213",
   "metadata": {},
   "outputs": [
    {
     "data": {
      "application/vnd.jupyter.widget-view+json": {
       "model_id": "5ef3a1a2640d45c9860cec23cf800b0b",
       "version_major": 2,
       "version_minor": 0
      },
      "text/plain": [
       "Loading checkpoint shards:   0%|          | 0/3 [00:00<?, ?it/s]"
      ]
     },
     "metadata": {},
     "output_type": "display_data"
    }
   ],
   "source": [
    "from transformers import AutoTokenizer, BitsAndBytesConfig\n",
    "from peft import AutoPeftModelForCausalLM\n",
    "import torch\n",
    "\n",
    "# -----------------------\n",
    "# Quantization config (4-bit)\n",
    "# -----------------------\n",
    "bnb_config = BitsAndBytesConfig(\n",
    "    load_in_4bit=True,\n",
    "    bnb_4bit_compute_dtype=torch.bfloat16,  # use bf16 on 4060\n",
    "    bnb_4bit_quant_type=\"nf4\",\n",
    "    bnb_4bit_use_double_quant=True,\n",
    ")\n",
    "\n",
    "# -----------------------\n",
    "# Load tokenizer + model with LoRA adapter\n",
    "# -----------------------\n",
    "tokenizer = AutoTokenizer.from_pretrained(\"defog_sqlcoder_7b_2_f4bit\")\n",
    "\n",
    "model = AutoPeftModelForCausalLM.from_pretrained(\n",
    "    \"defog_sqlcoder_7b_2_f4bit\",              # path to your LoRA adapter\n",
    "    quantization_config=bnb_config, # load in 4-bit\n",
    "    torch_dtype=torch.float16,\n",
    "    device_map=\"auto\"\n",
    ")\n",
    "\n",
    "torch.set_float32_matmul_precision('high')"
   ]
  },
  {
   "cell_type": "code",
   "execution_count": 2,
   "id": "a21d333f",
   "metadata": {},
   "outputs": [],
   "source": [
    "schema_info = \"\"\"superficie_bd.superficie_forestal (\n",
    "    entidad_federativa String,\n",
    "    poblacion UInt32,\n",
    "    superficie_entidad_federativa Float64,\n",
    "    superficie_forestal Float64,\n",
    "    superficie_no_forestal Float64,\n",
    "    superficie_con_arbolado Float64,\n",
    "    area_cubierta_por_bosque Float64,\n",
    "    area_cubierta_por_selva Float64,\n",
    "    area_cubierta_por_manglar Float64,\n",
    "    superficie_cubierta_por_otras_areas_arboladas Float64,\n",
    "    area_cubierta_por_matorral_xerofilo Float64,\n",
    "    area_cubierta_por_otras_areas_forestales Float64,\n",
    "    superficie_destinada_a_actividades_agricolas_de_humedad Float64,\n",
    "    superficie_destinada_a_actividades_agricolas_de_riego Float64,\n",
    "    superficie_destinada_a_actividades_agricolas_de_temporal Float64,\n",
    "    superficie_de_cuerpos_de_agua Float64,\n",
    "    superficie_destinada_a_actividades_acuicolas Float64,\n",
    "    area_de_pastizales_cultivados Float64,\n",
    "    area_de_pastizales_inducidos Float64,\n",
    "    superficie_sin_vegetacion_visible Float64,\n",
    "    superficie_desprovista_de_vegetacion Float64,\n",
    "    superficie_ocupada_por_asentamientos_humanos Float64\n",
    ")\n",
    "\"\"\""
   ]
  },
  {
   "cell_type": "code",
   "execution_count": 3,
   "id": "9206a56a",
   "metadata": {},
   "outputs": [],
   "source": [
    "entidad_federativa = \"['Aguascalientes', 'Baja California Norte', 'Baja California Sur', 'Campeche', 'Coahuila', 'Colima', 'Chiapas', 'Chihuahua', 'Ciudad de Mexico', 'Durango', 'Guanajuato', 'Guerrero', 'Hidalgo', 'Jalisco', 'Estado de Mexico', 'Michoacan', 'Morelos', 'Nayarit', 'Nuevo Leon', 'Oaxaca', 'Puebla', 'Queretaro', 'Quintana Roo', 'San Luis Potosi', 'Sinaloa', 'Sonora', 'Tabasco', 'Tamaulipas', 'Tlaxcala', 'Veracruz', 'Yucatan', 'Zacatecas']\""
   ]
  },
  {
   "cell_type": "code",
   "execution_count": 4,
   "id": "400e9715",
   "metadata": {},
   "outputs": [],
   "source": [
    "# -----------------------------\n",
    "# MAIN FUNCTION\n",
    "# -----------------------------\n",
    "def nl_to_sql(request: str) -> str:\n",
    "    prompt = f\"\"\"You are a SQL generator for PostgreSQL.\n",
    "    Given a user request in natural language (in Spanish), respond with exactly one valid SQL query. Return ONLY the SQL query, no explanations, no markdown formatting.\n",
    "    \n",
    "    SCHEMA:\n",
    "    Table: superficie_bd.superficie_forestal\n",
    "    {schema_info}\n",
    "\n",
    "    IMPORTANT RULES:\n",
    "\n",
    "    1. GRANULARITY:\n",
    "      - The table has one row per 'entidad_federativa' (state)\n",
    "      - Available states: {entidad_federativa}\n",
    "\n",
    "    2. TERMINOLOGY:\n",
    "      - \"entidad federativa\" = \"estado\" (state)\n",
    "      - cobertura = area = superficie\n",
    "      - \"México\" (without qualifiers) = the entire country (aggregate all states)\n",
    "      - \"Estado de México\" = a specific state\n",
    "      - \"Ciudad de México\" = a specific state (different from México and Estado de México)\n",
    "      - superficie total = sum of 'superficie_entidad_federativa'\n",
    "      - \"area forestal\" is not the same as \"area de bosque\", these are different concepts (columns)\n",
    "\n",
    "    3. WHEN TO AGGREGATE:\n",
    "      - If user asks about \"México\" alone: Use SUM() without GROUP BY\n",
    "      - If user asks about specific state(s): Use WHERE with exact state name(s)\n",
    "      - If user asks about \"all states\" or \"each state\": Use GROUP BY entidad_federativa\n",
    "\n",
    "    4. COLUMNS:\n",
    "      - All columns except 'entidad_federativa' and 'poblacion' represent surface area in hectares\n",
    "      - If user doesn't specify columns, select the most relevant based on context\n",
    "\n",
    "    5. FORMATTING:\n",
    "      - Always use: SELECT ... FROM superficie_bd.superficie_forestal\n",
    "      - Use exact column and state names from the schema\n",
    "      - For state filtering: WHERE entidad_federativa = 'exact_name'\n",
    "      - For multiple states: WHERE entidad_federativa IN ('state1', 'state2')\n",
    "      - Add ORDER BY when comparing or listing multiple results\n",
    "\n",
    "    6. RULE EXAMPLES:\n",
    "      - \"superficie de México\" → SUM(superficie_entidad_federativa) without WHERE\n",
    "      - \"superficie de Estado de México\" → WHERE entidad_federativa = 'Estado de México'\n",
    "      - \"superficie forestal por estado\" → SELECT entidad_federativa, superficie_forestal... GROUP BY entidad_federativa\n",
    "\n",
    "\n",
    "    REQUEST EXAMPLE:\n",
    "    User request: Dame la superficie de otras areas arboladas en la entidad federativa Sonora.\n",
    "    SQL: SELECT\n",
    "      superficie_cubierta_por_otras_areas_arboladas\n",
    "    FROM\n",
    "      superficie_bd.superficie_forestal\n",
    "    WHERE\n",
    "      entidad_federativa = 'Sonora';\n",
    "\n",
    "    REQUEST EXAMPLE:\n",
    "    User request: ¿Cuál es la entidad federativa con más superficie cubierta por bosque?\n",
    "    SQL: SELECT\n",
    "      entidad_federativa,\n",
    "      superficie_cubierta_por_bosque\n",
    "    FROM \n",
    "      superficie_bd.superficie_forestal\n",
    "    ORDER BY\n",
    "      superficie_cubierta_por_bosque\n",
    "    DESC\n",
    "    LIMIT 1;\n",
    "\n",
    "    REQUEST EXAMPLE:\n",
    "    User request: ¿Qué estado tiene la menor área de agua?\n",
    "    SELECT\n",
    "      entidad_federativa,\n",
    "      superficie_cubierta_por_cuerpos_de_agua\n",
    "    FROM \n",
    "      superficie_bd.superficie_forestal\n",
    "    ORDER BY\n",
    "      superficie_cubierta_por_cuerpos_de_agua\n",
    "    ASC\n",
    "    LIMIT 1;\n",
    "\n",
    "    REQUEST EXAMPLE:\n",
    "    User request: ¿Cuál es el total de superficie de matorral xerófilo?\n",
    "    SQL: SELECT\n",
    "      SUM(superficie_cubierta_por_matorral_xerofilo)\n",
    "    FROM\n",
    "      superficie_bd.superficie_forestal;\n",
    "\n",
    "    REQUEST EXAMPLE:\n",
    "    User request: ¿Cuál es la razón de superficie de manglar entre superficie total por entidad?\n",
    "    SQL: SELECT\n",
    "      entidad_federativa,\n",
    "      superficie_cubierta_por_manglar/superficie_entidad_federativa\n",
    "    FROM \n",
    "      superficie_bd.superficie_forestal\n",
    "    ORDER BY\n",
    "      superficie_cubierta_por_manglar/superficie_entidad_federativa\n",
    "    DESC;\n",
    "\n",
    "    REQUEST EXAMPLE:\n",
    "    User request: ¿Cuál es la superficie cubierta por bosque en el Estado de México?\n",
    "    SQL: SELECT\n",
    "      superficie_cubierta_por_bosque\n",
    "    FROM\n",
    "      superficie_bd.superficie_forestal\n",
    "    WHERE\n",
    "      entidad_federativa = 'Estado de Mexico';\n",
    "\n",
    "    REQUEST EXAMPLE:\n",
    "    User request: ¿Cuánto ocupa la superficie destinada a asentamientos humanos?\n",
    "    SQL: SELECT\n",
    "      SUM(superficie_ocupada_por_asentamientos_humanos)\n",
    "    FROM\n",
    "      superficie_bd.superficie_forestal;\n",
    "\n",
    "    REQUEST EXAMPLE:\n",
    "    User request: ¿Cuál es la superficie forestal en la república?\n",
    "    SQL: SELECT\n",
    "      SUM(superficie_forestal)\n",
    "    FROM\n",
    "      superficie_bd.superficie_forestal;\n",
    "\n",
    "    REQUEST EXAMPLE:\n",
    "    User request: ¿Cuál es la razón de superficie cubierta por otras áreas arboladas entre superficie total en el país?\n",
    "    SQL: SELECT\n",
    "      SUM(superficie_cubierta_por_otras_areas_arboladas)/SUM(superficie_entidad_federativa)\n",
    "    FROM \n",
    "      superficie_bd.superficie_forestal;\n",
    "\n",
    "    Generate only the SQL query.\n",
    "\n",
    "    User request: {request}\n",
    "\n",
    "    SQL:\n",
    "    \"\"\"\n",
    "\n",
    "    # 👇 Match input device to model’s first parameter device\n",
    "    model_device = next(model.parameters()).device\n",
    "    inputs = tokenizer(prompt, return_tensors=\"pt\").to(model_device)\n",
    "\n",
    "    gen_kwargs = {\n",
    "        \"max_new_tokens\": 128,\n",
    "        \"do_sample\": False,\n",
    "        \"pad_token_id\": tokenizer.eos_token_id,\n",
    "        \"eos_token_id\": tokenizer.eos_token_id,\n",
    "        #\"stopping_criteria\": stopping_criteria #conflicting line\n",
    "    }\n",
    "\n",
    "    @torch._dynamo.disable\n",
    "    def safe_generate():\n",
    "        with torch.no_grad():\n",
    "            return model.generate(**inputs, **gen_kwargs)\n",
    "\n",
    "    output_ids = safe_generate()\n",
    "    full_output = tokenizer.decode(output_ids[0], skip_special_tokens=True)\n",
    "\n",
    "    sql = full_output.replace(prompt, \"\").strip()\n",
    "    if \";\" in sql:\n",
    "      sql = sql.split(\";\")[0] + \";\"\n",
    "    \n",
    "    return sql"
   ]
  },
  {
   "cell_type": "code",
   "execution_count": null,
   "id": "02ba152a",
   "metadata": {},
   "outputs": [],
   "source": [
    "import clickhouse_connect\n",
    "\n",
    "client = clickhouse_connect.get_client(\n",
    "    host='clickhouse',\n",
    "    port=8123,  # HTTP interface\n",
    "    username='abc',\n",
    "    password='xyz'\n",
    ")"
   ]
  },
  {
   "cell_type": "code",
   "execution_count": 6,
   "id": "b6af74ce",
   "metadata": {},
   "outputs": [
    {
     "name": "stdout",
     "output_type": "stream",
     "text": [
      "Generated SQL:\n",
      " SELECT superficie_cubierta_por_cuerpos_de_agua FROM superficie_bd.superficie_forestal WHERE entidad_federativa = 'Jalisco';\n"
     ]
    }
   ],
   "source": [
    "\n",
    "query = nl_to_sql(\"Dame la superficie cubierta por agua en Jalisco\")\n",
    "print(\"Generated SQL:\\n\", query)"
   ]
  },
  {
   "cell_type": "code",
   "execution_count": 7,
   "id": "b110d7f4",
   "metadata": {},
   "outputs": [
    {
     "name": "stdout",
     "output_type": "stream",
     "text": [
      "('superficie_cubierta_por_cuerpos_de_agua',)\n"
     ]
    },
    {
     "data": {
      "text/plain": [
       "[(161704.7867,)]"
      ]
     },
     "execution_count": 7,
     "metadata": {},
     "output_type": "execute_result"
    }
   ],
   "source": [
    "result = client.query(query)\n",
    "\n",
    "print(result.column_names)\n",
    "result.result_rows"
   ]
  },
  {
   "cell_type": "code",
   "execution_count": 8,
   "id": "beae25b1",
   "metadata": {},
   "outputs": [
    {
     "name": "stdout",
     "output_type": "stream",
     "text": [
      "Generated SQL:\n",
      " SELECT superficie_cubierta_por_bosque FROM superficie_bd.superficie_forestal WHERE entidad_federativa = 'Estado de Mexico';\n"
     ]
    }
   ],
   "source": [
    "query = nl_to_sql(\"¿Cuál es la superficie cubierta por bosque en el Estado de México?\")\n",
    "print(\"Generated SQL:\\n\", query)"
   ]
  },
  {
   "cell_type": "code",
   "execution_count": 9,
   "id": "8782371d",
   "metadata": {},
   "outputs": [
    {
     "name": "stdout",
     "output_type": "stream",
     "text": [
      "('superficie_cubierta_por_bosque',)\n"
     ]
    },
    {
     "data": {
      "text/plain": [
       "[(623624.7159,)]"
      ]
     },
     "execution_count": 9,
     "metadata": {},
     "output_type": "execute_result"
    }
   ],
   "source": [
    "result = client.query(query)\n",
    "\n",
    "print(result.column_names)\n",
    "result.result_rows"
   ]
  },
  {
   "cell_type": "code",
   "execution_count": 10,
   "id": "53f3eac1",
   "metadata": {},
   "outputs": [
    {
     "name": "stdout",
     "output_type": "stream",
     "text": [
      "Generated SQL:\n",
      " SELECT SUM(superficie_cubierta_por_cuerpos_de_agua)/SUM(superficie_entidad_federativa) AS ratio FROM superficie_bd.superficie_forestal WHERE entidad_federativa = 'Colima';\n"
     ]
    }
   ],
   "source": [
    "query = nl_to_sql(\"Muestra la razón de cuerpos de agua entre superficie total para Colima\")\n",
    "print(\"Generated SQL:\\n\", query)"
   ]
  },
  {
   "cell_type": "code",
   "execution_count": 11,
   "id": "6a0c56a4",
   "metadata": {},
   "outputs": [
    {
     "name": "stdout",
     "output_type": "stream",
     "text": [
      "('ratio',)\n"
     ]
    },
    {
     "data": {
      "text/plain": [
       "[(0.016827571244275315,)]"
      ]
     },
     "execution_count": 11,
     "metadata": {},
     "output_type": "execute_result"
    }
   ],
   "source": [
    "result = client.query(query)\n",
    "\n",
    "print(result.column_names)\n",
    "result.result_rows"
   ]
  },
  {
   "cell_type": "code",
   "execution_count": 12,
   "id": "e475761f",
   "metadata": {},
   "outputs": [
    {
     "name": "stdout",
     "output_type": "stream",
     "text": [
      "Generated SQL:\n",
      " SELECT SUM(superficie_cubierta_por_otras_areas_arboladas)/NULLIF(SUM(poblacion), 0) AS ratio FROM superficie_bd.superficie_forestal;\n"
     ]
    }
   ],
   "source": [
    "query = nl_to_sql(\"¿Cuál es la razón del total de superficie cubierta por otras áreas forestales entre la población total?\")\n",
    "print(\"Generated SQL:\\n\", query)"
   ]
  },
  {
   "cell_type": "code",
   "execution_count": 13,
   "id": "fe3215d3",
   "metadata": {},
   "outputs": [
    {
     "name": "stdout",
     "output_type": "stream",
     "text": [
      "('ratio',)\n"
     ]
    },
    {
     "data": {
      "text/plain": [
       "[(0.004022882127771985,)]"
      ]
     },
     "execution_count": 13,
     "metadata": {},
     "output_type": "execute_result"
    }
   ],
   "source": [
    "result = client.query(query)\n",
    "\n",
    "print(result.column_names)\n",
    "result.result_rows"
   ]
  },
  {
   "cell_type": "code",
   "execution_count": 14,
   "id": "19fe8827",
   "metadata": {},
   "outputs": [
    {
     "name": "stdout",
     "output_type": "stream",
     "text": [
      "Generated SQL:\n",
      " SELECT entidad_federativa, superficie_destinada_a_actividades_agricolas_de_humedad FROM superficie_bd.superficie_forestal ORDER BY superficie_destinada_a_actividades_agricolas_de_humedad DESC LIMIT 1;\n"
     ]
    }
   ],
   "source": [
    "query = nl_to_sql(\"¿Cuál es el estado con la mayor superficie destinada a actividades agrícolas de humedad?\")\n",
    "print(\"Generated SQL:\\n\", query)"
   ]
  },
  {
   "cell_type": "code",
   "execution_count": 15,
   "id": "005c4306",
   "metadata": {},
   "outputs": [
    {
     "name": "stdout",
     "output_type": "stream",
     "text": [
      "('entidad_federativa', 'superficie_destinada_a_actividades_agricolas_de_humedad')\n"
     ]
    },
    {
     "data": {
      "text/plain": [
       "[('Veracruz', 74343.30061)]"
      ]
     },
     "execution_count": 15,
     "metadata": {},
     "output_type": "execute_result"
    }
   ],
   "source": [
    "result = client.query(query)\n",
    "\n",
    "print(result.column_names)\n",
    "result.result_rows"
   ]
  },
  {
   "cell_type": "code",
   "execution_count": 16,
   "id": "40e96671",
   "metadata": {},
   "outputs": [
    {
     "name": "stdout",
     "output_type": "stream",
     "text": [
      "Generated SQL:\n",
      " SELECT SUM(superficie_ocupada_por_asentamientos_humanos) AS superficie_ocupada_por_asentamientos_humanos FROM superficie_bd.superficie_forestal;\n"
     ]
    }
   ],
   "source": [
    "query = nl_to_sql(\"Área ocupada por asentamientos humanos\")\n",
    "print(\"Generated SQL:\\n\", query)"
   ]
  },
  {
   "cell_type": "code",
   "execution_count": 17,
   "id": "fe8f31b5",
   "metadata": {},
   "outputs": [
    {
     "name": "stdout",
     "output_type": "stream",
     "text": [
      "('superficie_ocupada_por_asentamientos_humanos',)\n"
     ]
    },
    {
     "data": {
      "text/plain": [
       "[(2410991.0339599997,)]"
      ]
     },
     "execution_count": 17,
     "metadata": {},
     "output_type": "execute_result"
    }
   ],
   "source": [
    "result = client.query(query)\n",
    "\n",
    "print(result.column_names)\n",
    "result.result_rows"
   ]
  },
  {
   "cell_type": "code",
   "execution_count": 18,
   "id": "9b700b42",
   "metadata": {},
   "outputs": [
    {
     "name": "stdout",
     "output_type": "stream",
     "text": [
      "Generated SQL:\n",
      " SELECT entidad_federativa, superficie_sin_vegetacion_visible FROM superficie_bd.superficie_forestal ORDER BY superficie_sin_vegetacion_visible DESC LIMIT 3;\n"
     ]
    }
   ],
   "source": [
    "query = nl_to_sql(\"¿Cuáles son las 3 entidades con mayor superficie sin vegetación visible?\")\n",
    "print(\"Generated SQL:\\n\", query)"
   ]
  },
  {
   "cell_type": "code",
   "execution_count": 19,
   "id": "3e2bab49",
   "metadata": {},
   "outputs": [
    {
     "name": "stdout",
     "output_type": "stream",
     "text": [
      "('entidad_federativa', 'superficie_sin_vegetacion_visible')\n"
     ]
    },
    {
     "data": {
      "text/plain": [
       "[('Baja California Norte', 304021.6308),\n",
       " ('Sonora', 136439.0437),\n",
       " ('Chihuahua', 93518.89663)]"
      ]
     },
     "execution_count": 19,
     "metadata": {},
     "output_type": "execute_result"
    }
   ],
   "source": [
    "result = client.query(query)\n",
    "\n",
    "print(result.column_names)\n",
    "result.result_rows"
   ]
  },
  {
   "cell_type": "code",
   "execution_count": 20,
   "id": "dfb99271",
   "metadata": {},
   "outputs": [
    {
     "name": "stdout",
     "output_type": "stream",
     "text": [
      "Generated SQL:\n",
      " SELECT entidad_federativa, superficie_cubierta_por_bosque FROM superficie_bd.superficie_forestal ORDER BY superficie_cubierta_por_bosque ASC LIMIT 1;\n"
     ]
    }
   ],
   "source": [
    "query = nl_to_sql(\"¿Qué entidad federativa tiene la menor área de bosque?\")\n",
    "print(\"Generated SQL:\\n\", query)"
   ]
  },
  {
   "cell_type": "code",
   "execution_count": 21,
   "id": "6f226333",
   "metadata": {},
   "outputs": [
    {
     "name": "stdout",
     "output_type": "stream",
     "text": [
      "('entidad_federativa', 'superficie_cubierta_por_bosque')\n"
     ]
    },
    {
     "data": {
      "text/plain": [
       "[('Yucatan', 0.0)]"
      ]
     },
     "execution_count": 21,
     "metadata": {},
     "output_type": "execute_result"
    }
   ],
   "source": [
    "result = client.query(query)\n",
    "\n",
    "print(result.column_names)\n",
    "result.result_rows"
   ]
  },
  {
   "cell_type": "code",
   "execution_count": 22,
   "id": "085db2a3",
   "metadata": {},
   "outputs": [
    {
     "name": "stdout",
     "output_type": "stream",
     "text": [
      "Generated SQL:\n",
      " SELECT SUM(poblacion) FROM superficie_bd.superficie_forestal;\n"
     ]
    }
   ],
   "source": [
    "query = nl_to_sql(\"¿Cuál es la población total en México?\")\n",
    "print(\"Generated SQL:\\n\", query)"
   ]
  },
  {
   "cell_type": "code",
   "execution_count": 23,
   "id": "33d7c897",
   "metadata": {},
   "outputs": [
    {
     "name": "stdout",
     "output_type": "stream",
     "text": [
      "('SUM(poblacion)',)\n"
     ]
    },
    {
     "data": {
      "text/plain": [
       "[(131014024,)]"
      ]
     },
     "execution_count": 23,
     "metadata": {},
     "output_type": "execute_result"
    }
   ],
   "source": [
    "result = client.query(query)\n",
    "\n",
    "print(result.column_names)\n",
    "result.result_rows"
   ]
  },
  {
   "cell_type": "code",
   "execution_count": 24,
   "id": "c6705532",
   "metadata": {},
   "outputs": [
    {
     "name": "stdout",
     "output_type": "stream",
     "text": [
      "Generated SQL:\n",
      " SELECT SUM(superficie_cubierta_por_cuerpos_de_agua)/NULLIF(SUM(poblacion), 0) AS indice_nacional_de_superficie_de_cuerpos_de_agua FROM superficie_bd.superficie_forestal;\n"
     ]
    }
   ],
   "source": [
    "query = nl_to_sql(\"¿Cuál es el índice nacional de superficie de cuerpos de agua entre población?\")\n",
    "print(\"Generated SQL:\\n\", query)"
   ]
  },
  {
   "cell_type": "code",
   "execution_count": 25,
   "id": "6edef55a",
   "metadata": {},
   "outputs": [
    {
     "name": "stdout",
     "output_type": "stream",
     "text": [
      "('indice_nacional_de_superficie_de_cuerpos_de_agua',)\n"
     ]
    },
    {
     "data": {
      "text/plain": [
       "[(0.02012530448456724,)]"
      ]
     },
     "execution_count": 25,
     "metadata": {},
     "output_type": "execute_result"
    }
   ],
   "source": [
    "result = client.query(query)\n",
    "\n",
    "print(result.column_names)\n",
    "result.result_rows"
   ]
  },
  {
   "cell_type": "code",
   "execution_count": 26,
   "id": "f8c7a46f",
   "metadata": {},
   "outputs": [
    {
     "name": "stdout",
     "output_type": "stream",
     "text": [
      "Generated SQL:\n",
      " SELECT entidad_federativa, MIN(superficie_cubierta_por_bosque) FROM superficie_bd.superficie_forestal GROUP BY entidad_federativa ORDER BY MIN(superficie_cubierta_por_bosque) ASC LIMIT 1;\n"
     ]
    }
   ],
   "source": [
    "query = nl_to_sql(\"¿Cuál es la entidad federativa con menor área de arbolado?\")\n",
    "print(\"Generated SQL:\\n\", query)"
   ]
  },
  {
   "cell_type": "code",
   "execution_count": 27,
   "id": "3993657f",
   "metadata": {},
   "outputs": [
    {
     "name": "stdout",
     "output_type": "stream",
     "text": [
      "('entidad_federativa', 'MIN(superficie_cubierta_por_bosque)')\n"
     ]
    },
    {
     "data": {
      "text/plain": [
       "[('Quintana Roo', 0.0)]"
      ]
     },
     "execution_count": 27,
     "metadata": {},
     "output_type": "execute_result"
    }
   ],
   "source": [
    "result = client.query(query)\n",
    "\n",
    "print(result.column_names)\n",
    "result.result_rows"
   ]
  },
  {
   "cell_type": "code",
   "execution_count": 30,
   "id": "d96319b4",
   "metadata": {},
   "outputs": [
    {
     "name": "stdout",
     "output_type": "stream",
     "text": [
      "Generated SQL:\n",
      " SELECT superficie_entidad_federativa FROM superficie_bd.superficie_forestal WHERE entidad_federativa = 'Oaxaca';\n"
     ]
    }
   ],
   "source": [
    "query = nl_to_sql(\"¿Cuál es el área de Oaxaca?\")\n",
    "print(\"Generated SQL:\\n\", query)"
   ]
  },
  {
   "cell_type": "code",
   "execution_count": 31,
   "id": "41a7d283",
   "metadata": {},
   "outputs": [
    {
     "name": "stdout",
     "output_type": "stream",
     "text": [
      "('superficie_entidad_federativa',)\n"
     ]
    },
    {
     "data": {
      "text/plain": [
       "[(9376581.998,)]"
      ]
     },
     "execution_count": 31,
     "metadata": {},
     "output_type": "execute_result"
    }
   ],
   "source": [
    "result = client.query(query)\n",
    "\n",
    "print(result.column_names)\n",
    "result.result_rows"
   ]
  },
  {
   "cell_type": "code",
   "execution_count": 34,
   "id": "d15dcc2f",
   "metadata": {},
   "outputs": [
    {
     "name": "stdout",
     "output_type": "stream",
     "text": [
      "Generated SQL: SELECT SUM(superficie_forestal)/NULLIF(SUM(poblacion), 0) AS division_superficie_poblacion FROM superficie_bd.superficie_forestal;\n"
     ]
    }
   ],
   "source": [
    "query = nl_to_sql(\"Muestra la división de la suma de superficie forestal entre la suma de población\")\n",
    "print(\"Generated SQL:\", sql)"
   ]
  },
  {
   "cell_type": "code",
   "execution_count": 35,
   "id": "97d2e39f",
   "metadata": {},
   "outputs": [
    {
     "name": "stdout",
     "output_type": "stream",
     "text": [
      "('division_superficie_poblacion',)\n"
     ]
    },
    {
     "data": {
      "text/plain": [
       "[(1.0586288822053125,)]"
      ]
     },
     "execution_count": 35,
     "metadata": {},
     "output_type": "execute_result"
    }
   ],
   "source": [
    "result = client.query(query)\n",
    "\n",
    "print(result.column_names)\n",
    "result.result_rows"
   ]
  }
 ],
 "metadata": {
  "kernelspec": {
   "display_name": "base",
   "language": "python",
   "name": "python3"
  },
  "language_info": {
   "codemirror_mode": {
    "name": "ipython",
    "version": 3
   },
   "file_extension": ".py",
   "mimetype": "text/x-python",
   "name": "python",
   "nbconvert_exporter": "python",
   "pygments_lexer": "ipython3",
   "version": "3.11.13"
  }
 },
 "nbformat": 4,
 "nbformat_minor": 5
}
